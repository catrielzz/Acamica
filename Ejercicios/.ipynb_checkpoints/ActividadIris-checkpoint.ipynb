{
 "cells": [
  {
   "cell_type": "markdown",
   "metadata": {},
   "source": [
    "# Analisis Dataset Iris\n",
    "## - Realizar un análisis descriptivo del dataset que cuente con exploración de sus valores: rango, mínimos, máximos, varianza, desvío, valores promedio y medios, etc.\n",
    "## - Mostrar distribución de los datos mediante histogramas\n",
    "## - Explorar la correlación existente entre las diferentes columnas\n",
    "## - Graficar de a pares las columnas para identificar el comportamiento de los valores según las especies."
   ]
  },
  {
   "cell_type": "code",
   "execution_count": null,
   "metadata": {},
   "outputs": [],
   "source": []
  }
 ],
 "metadata": {
  "kernelspec": {
   "display_name": "Python 3",
   "language": "python",
   "name": "python3"
  },
  "language_info": {
   "codemirror_mode": {
    "name": "ipython",
    "version": 3
   },
   "file_extension": ".py",
   "mimetype": "text/x-python",
   "name": "python",
   "nbconvert_exporter": "python",
   "pygments_lexer": "ipython3",
   "version": "3.7.4"
  }
 },
 "nbformat": 4,
 "nbformat_minor": 4
}
