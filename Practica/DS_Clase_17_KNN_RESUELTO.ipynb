{
 "cells": [
  {
   "cell_type": "markdown",
   "metadata": {},
   "source": [
    "# KNN: K-Nearest Neighbors\n",
    "\n",
    "En este notebooks, vamos a implementar el algoritmo de clasificación de K vecinos más cercanos usando la libreria Scikit-learn. Además, vamos a evaluar los resultados obtenidos para distintos valores del hiperparámetro k (número de vecinos).\n",
    "\n",
    "## 1. Clasificación en el dataset IRIS\n",
    "\n",
    "Para comenzar, vamos a trabajar con un dataset que ya conocemos, el de IRIS.\n",
    "\n",
    "### 1.1 Cargar el dataset\n",
    "\n",
    "Primero cargamos las librerias y el dataset que vamos a usar (el cual en este caso lo traemos desde la libreria Seaborn). Separamos el dataset entre features, `X`, y labels `y`. "
   ]
  },
  {
   "cell_type": "code",
   "execution_count": 1,
   "metadata": {},
   "outputs": [],
   "source": [
    "import pandas as pd\n",
    "import seaborn as sns\n",
    "import numpy as np\n",
    "\n",
    "\n",
    "league = pd.read_csv('champions-stats.csv')\n",
    "# X = league.drop(\"name\", axis=1)\n",
    "# y = league.name"
   ]
  },
  {
   "cell_type": "code",
   "execution_count": 2,
   "metadata": {},
   "outputs": [
    {
     "data": {
      "text/html": [
       "<div>\n",
       "<style scoped>\n",
       "    .dataframe tbody tr th:only-of-type {\n",
       "        vertical-align: middle;\n",
       "    }\n",
       "\n",
       "    .dataframe tbody tr th {\n",
       "        vertical-align: top;\n",
       "    }\n",
       "\n",
       "    .dataframe thead th {\n",
       "        text-align: right;\n",
       "    }\n",
       "</style>\n",
       "<table border=\"1\" class=\"dataframe\">\n",
       "  <thead>\n",
       "    <tr style=\"text-align: right;\">\n",
       "      <th></th>\n",
       "      <th>name</th>\n",
       "      <th>hp</th>\n",
       "      <th>hp+</th>\n",
       "      <th>hp5</th>\n",
       "      <th>hp5+</th>\n",
       "      <th>mp</th>\n",
       "      <th>mp+</th>\n",
       "      <th>mp5</th>\n",
       "      <th>mp5+</th>\n",
       "      <th>ad</th>\n",
       "      <th>ad+</th>\n",
       "      <th>as</th>\n",
       "      <th>as+</th>\n",
       "      <th>ar</th>\n",
       "      <th>ar+</th>\n",
       "      <th>mr</th>\n",
       "      <th>mr+</th>\n",
       "      <th>ms</th>\n",
       "      <th>rng</th>\n",
       "      <th>clase</th>\n",
       "    </tr>\n",
       "  </thead>\n",
       "  <tbody>\n",
       "    <tr>\n",
       "      <td>0</td>\n",
       "      <td>Aatrox</td>\n",
       "      <td>580.00</td>\n",
       "      <td>90.0</td>\n",
       "      <td>3.0</td>\n",
       "      <td>1.00</td>\n",
       "      <td>0.0</td>\n",
       "      <td>0.0</td>\n",
       "      <td>0.000</td>\n",
       "      <td>0.000</td>\n",
       "      <td>60.0000</td>\n",
       "      <td>5.00</td>\n",
       "      <td>0.651</td>\n",
       "      <td>2.500</td>\n",
       "      <td>38.00</td>\n",
       "      <td>3.25</td>\n",
       "      <td>32.1</td>\n",
       "      <td>1.25</td>\n",
       "      <td>345.0</td>\n",
       "      <td>175.0</td>\n",
       "      <td>fighter</td>\n",
       "    </tr>\n",
       "    <tr>\n",
       "      <td>1</td>\n",
       "      <td>Ahri</td>\n",
       "      <td>526.00</td>\n",
       "      <td>92.0</td>\n",
       "      <td>6.5</td>\n",
       "      <td>0.60</td>\n",
       "      <td>418.0</td>\n",
       "      <td>25.0</td>\n",
       "      <td>8.000</td>\n",
       "      <td>0.800</td>\n",
       "      <td>53.0400</td>\n",
       "      <td>3.00</td>\n",
       "      <td>0.668</td>\n",
       "      <td>2.000</td>\n",
       "      <td>20.88</td>\n",
       "      <td>3.50</td>\n",
       "      <td>30.0</td>\n",
       "      <td>0.50</td>\n",
       "      <td>330.0</td>\n",
       "      <td>550.0</td>\n",
       "      <td>mage</td>\n",
       "    </tr>\n",
       "    <tr>\n",
       "      <td>2</td>\n",
       "      <td>Akali</td>\n",
       "      <td>575.00</td>\n",
       "      <td>95.0</td>\n",
       "      <td>8.0</td>\n",
       "      <td>0.50</td>\n",
       "      <td>200.0</td>\n",
       "      <td>0.0</td>\n",
       "      <td>50.000</td>\n",
       "      <td>0.000</td>\n",
       "      <td>62.4000</td>\n",
       "      <td>3.30</td>\n",
       "      <td>0.625</td>\n",
       "      <td>3.200</td>\n",
       "      <td>23.00</td>\n",
       "      <td>3.50</td>\n",
       "      <td>37.0</td>\n",
       "      <td>1.25</td>\n",
       "      <td>345.0</td>\n",
       "      <td>125.0</td>\n",
       "      <td>assasin</td>\n",
       "    </tr>\n",
       "    <tr>\n",
       "      <td>3</td>\n",
       "      <td>Alistar</td>\n",
       "      <td>573.36</td>\n",
       "      <td>106.0</td>\n",
       "      <td>8.5</td>\n",
       "      <td>0.85</td>\n",
       "      <td>350.0</td>\n",
       "      <td>40.0</td>\n",
       "      <td>8.500</td>\n",
       "      <td>0.800</td>\n",
       "      <td>61.1116</td>\n",
       "      <td>3.62</td>\n",
       "      <td>0.625</td>\n",
       "      <td>2.125</td>\n",
       "      <td>44.00</td>\n",
       "      <td>3.50</td>\n",
       "      <td>32.1</td>\n",
       "      <td>1.25</td>\n",
       "      <td>330.0</td>\n",
       "      <td>125.0</td>\n",
       "      <td>tank</td>\n",
       "    </tr>\n",
       "    <tr>\n",
       "      <td>4</td>\n",
       "      <td>Amumu</td>\n",
       "      <td>613.12</td>\n",
       "      <td>84.0</td>\n",
       "      <td>9.0</td>\n",
       "      <td>0.85</td>\n",
       "      <td>287.2</td>\n",
       "      <td>40.0</td>\n",
       "      <td>7.382</td>\n",
       "      <td>0.525</td>\n",
       "      <td>53.3800</td>\n",
       "      <td>3.80</td>\n",
       "      <td>0.638</td>\n",
       "      <td>2.180</td>\n",
       "      <td>33.00</td>\n",
       "      <td>3.80</td>\n",
       "      <td>32.1</td>\n",
       "      <td>1.25</td>\n",
       "      <td>335.0</td>\n",
       "      <td>125.0</td>\n",
       "      <td>tank</td>\n",
       "    </tr>\n",
       "  </tbody>\n",
       "</table>\n",
       "</div>"
      ],
      "text/plain": [
       "      name      hp    hp+  hp5  hp5+     mp   mp+     mp5   mp5+       ad  \\\n",
       "0   Aatrox  580.00   90.0  3.0  1.00    0.0   0.0   0.000  0.000  60.0000   \n",
       "1     Ahri  526.00   92.0  6.5  0.60  418.0  25.0   8.000  0.800  53.0400   \n",
       "2    Akali  575.00   95.0  8.0  0.50  200.0   0.0  50.000  0.000  62.4000   \n",
       "3  Alistar  573.36  106.0  8.5  0.85  350.0  40.0   8.500  0.800  61.1116   \n",
       "4    Amumu  613.12   84.0  9.0  0.85  287.2  40.0   7.382  0.525  53.3800   \n",
       "\n",
       "    ad+     as    as+     ar   ar+    mr   mr+     ms    rng    clase  \n",
       "0  5.00  0.651  2.500  38.00  3.25  32.1  1.25  345.0  175.0  fighter  \n",
       "1  3.00  0.668  2.000  20.88  3.50  30.0  0.50  330.0  550.0     mage  \n",
       "2  3.30  0.625  3.200  23.00  3.50  37.0  1.25  345.0  125.0  assasin  \n",
       "3  3.62  0.625  2.125  44.00  3.50  32.1  1.25  330.0  125.0     tank  \n",
       "4  3.80  0.638  2.180  33.00  3.80  32.1  1.25  335.0  125.0     tank  "
      ]
     },
     "execution_count": 2,
     "metadata": {},
     "output_type": "execute_result"
    }
   ],
   "source": [
    "data = [['fighter'], ['mage'], ['assasin'], ['tank'], ['tank'], ['mage'],\n",
    "       ['mage'], ['marksman'], ['mage'], ['mage'], ['mage'], ['tank'],\n",
    "       ['mage'], ['tank'], ['marksman'], ['fighter'], ['mage'], ['tank'],\n",
    "       ['marksman'], ['tank'], ['assasin'], ['tank'], ['marksman'], ['assasin'],\n",
    "       ['assasin'], ['assasin'], ['marksman'], ['mage'], ['fighter'], ['assasin'],\n",
    "       ['mage'], ['fighter'], ['tank'], ['tank'], ['mage'], ['marksman'],\n",
    "       ['fighter'], ['mage'], ['fighter'], ['fighter'], ['mage'], ['mage'],\n",
    "       ['fighter'], ['fighter'], ['fighter'], ['marksman'], ['marksman'], ['fighter'],\n",
    "       ['marksman'], ['mage'], ['mage'], ['assasin'], ['assasin'], ['mage'],\n",
    "       ['fighter'], ['mage'], ['fighter'], ['marksman'], ['fighter'], ['marksman'],\n",
    "       ['assasin'], ['fighter'], ['tank'], ['mage'], ['marksman'], ['mage'],\n",
    "       ['mage'], ['tank'], ['mage'], ['tank'], ['fighter'], ['marksman'],\n",
    "       ['mage'], ['mage'], ['mage'], ['tank'], ['tank'], ['mage'],\n",
    "       ['mage'], ['assasin'], ['tank'], ['fighter'], ['mage'], ['tank'],\n",
    "       ['fighter'], ['tank'], ['assasin'], ['assasin'], ['marksman'], ['mage'],\n",
    "       ['tank'], ['fighter'], ['fighter'], ['assasin'], ['fighter'], ['mage'],\n",
    "       ['mage'], ['tank'], ['marksman'], ['assasin'], ['tank'], ['fighter'],\n",
    "       ['tank'], ['tank'], ['marksman'], ['tank'], ['mage'], ['mage'],\n",
    "       ['mage'], ['mage'], ['mage'], ['tank'], ['mage'], ['assasin'],\n",
    "       ['tank'], ['marksman'], ['tank'], ['marksman'], ['fighter'], ['fighter'],\n",
    "       ['mage'], ['marksman'], ['fighter'], ['tank'], ['marksman'], ['marksman'],\n",
    "       ['mage'], ['mage'], ['fighter'], ['mage'], ['mage'], ['tank'],\n",
    "       ['fighter'], ['fighter'], ['marksman'], ['mage'], ['fighter'], ['fighter'],\n",
    "       ['fighter'], ['mage'], ['tank'], ['assasin'], ['mage'], ['mage'],\n",
    "       ['mage'], ['mage']]\n",
    "\n",
    "clase = pd.DataFrame(data, columns = ['clase'])\n",
    "league = pd.concat([league, clase], axis=1)\n",
    "X = league.drop([\"clase\", 'name', 'mp+', 'hp5+', 'mp5+','ar+','mr+'], axis=1)\n",
    "y = league.clase\n",
    "league.head(5)"
   ]
  },
  {
   "cell_type": "code",
   "execution_count": 3,
   "metadata": {},
   "outputs": [
    {
     "data": {
      "text/plain": [
       "2.41"
      ]
     },
     "execution_count": 3,
     "metadata": {},
     "output_type": "execute_result"
    }
   ],
   "source": [
    "# league['as+'].describe()\n",
    "wea = np.round(np.random.uniform(1.000, 6.000), 2)\n",
    "wea"
   ]
  },
  {
   "cell_type": "markdown",
   "metadata": {},
   "source": [
    "Luego, como aprendimos la clase anterior, vamos a separar el dataset en conjuntos de entrenamiento `X_train, y_train` y de testeo `X_test,y_test` usando la función `train_test_split` de scikit-learn (¡recordar importarla primero!). Esto lo hacemos para separar parte de los datos `X_test,y_test` con los cuales **no vamos a entrenar el dataset, y vamos a usarlos únicamente para evaluar el resultado de nuestro algoritmo**.\n",
    "\n",
    "**Ejercicio**: Separar los instancias del Dataset, tomando en las variables `X_train, y_train` un 90% para entrenamiento y en las variables `X_test,y_test` un 10% para evaluación:"
   ]
  },
  {
   "cell_type": "code",
   "execution_count": 4,
   "metadata": {},
   "outputs": [],
   "source": [
    "from sklearn.model_selection import train_test_split\n",
    "\n",
    "X_train, X_test, y_train, y_test = train_test_split(X, y, test_size=0.3, stratify=y, random_state=42)"
   ]
  },
  {
   "cell_type": "markdown",
   "metadata": {},
   "source": [
    "### 1.2 Preprocesamiento de Datos\n",
    "\n",
    "Antes de implementar un algoritmo de KNN, es muy importante normalizar los datos. Veamos algunos estadisticos de los distintos Features de nuestro Dataset:"
   ]
  },
  {
   "cell_type": "code",
   "execution_count": 5,
   "metadata": {},
   "outputs": [
    {
     "name": "stdout",
     "output_type": "stream",
     "text": [
      "Maximos: \n",
      " hp     616.280\n",
      "hp+    112.000\n",
      "hp5     10.000\n",
      "mp     500.000\n",
      "mp5     50.000\n",
      "ad      70.000\n",
      "ad+      5.000\n",
      "as       0.694\n",
      "as+      6.000\n",
      "ar      47.000\n",
      "mr      39.000\n",
      "ms     355.000\n",
      "rng    650.000\n",
      "dtype: float64 \n",
      " \n",
      " Mínimas: \n",
      " hp     400.00\n",
      "hp+     60.00\n",
      "hp5      2.50\n",
      "mp       0.00\n",
      "mp5      0.00\n",
      "ad      45.66\n",
      "ad+      0.00\n",
      "as       0.20\n",
      "as+      1.00\n",
      "ar      18.00\n",
      "mr      25.00\n",
      "ms     325.00\n",
      "rng    125.00\n",
      "dtype: float64 \n",
      "\n",
      "Means: \n",
      " hp     555.278824\n",
      "hp+     88.784314\n",
      "hp5      6.730392\n",
      "mp     314.227647\n",
      "mp5      9.119520\n",
      "ad      59.653093\n",
      "ad+      3.206682\n",
      "as       0.634127\n",
      "as+      2.527667\n",
      "ar      29.883647\n",
      "mr      31.172549\n",
      "ms     336.813725\n",
      "rng    322.794118\n",
      "dtype: float64 \n",
      " \n",
      " Std: \n",
      " hp      34.381535\n",
      "hp+      6.692137\n",
      "hp5      1.793376\n",
      "mp     104.258181\n",
      "mp5      9.649627\n",
      "ad       5.754202\n",
      "ad+      0.601529\n",
      "as       0.050868\n",
      "as+      0.842765\n",
      "ar       6.587750\n",
      "mr       1.597099\n",
      "ms       7.636196\n",
      "rng    195.750110\n",
      "dtype: float64\n"
     ]
    }
   ],
   "source": [
    "print('Maximos: \\n',X_train.max(),'\\n \\n Mínimas: \\n',X_train.min(),'\\n')\n",
    "print('Means: \\n',X_train.mean(),'\\n \\n Std: \\n',X_train.std())"
   ]
  },
  {
   "cell_type": "markdown",
   "metadata": {},
   "source": [
    "Como se puede observar, los features poseen diferentes escalas (la media de la variables *sepal_length* es 5 veces la media de la variable *petal_width*). Pasemos entonces a normalizar estos datos.\n",
    "\n",
    "**Ejercicio**: Normalizar los features del Dataset utilizando la función `StandardScaler` (que deben importar desde `sklearn.preprocessing`):"
   ]
  },
  {
   "cell_type": "code",
   "execution_count": 6,
   "metadata": {},
   "outputs": [],
   "source": [
    "from sklearn.preprocessing import StandardScaler\n",
    "scaler = StandardScaler()\n",
    "scaler.fit(X_train)\n",
    "X_train = scaler.transform(X_train)\n",
    "X_test = scaler.transform(X_test)  \n"
   ]
  },
  {
   "cell_type": "markdown",
   "metadata": {},
   "source": [
    "Volvamos a analizar los mismos estadísticos luego de la transformación:"
   ]
  },
  {
   "cell_type": "code",
   "execution_count": 7,
   "metadata": {},
   "outputs": [
    {
     "name": "stdout",
     "output_type": "stream",
     "text": [
      "Maximos: \n",
      " 0     1.783004\n",
      "1     3.486230\n",
      "2     1.832162\n",
      "3     1.790648\n",
      "4     4.257404\n",
      "5     1.807028\n",
      "6     2.995988\n",
      "7     1.182838\n",
      "8     4.140512\n",
      "9     2.611040\n",
      "10    4.925247\n",
      "11    2.393349\n",
      "12    1.679804\n",
      "dtype: float64 \n",
      " \n",
      " Mínimas: \n",
      " 0    -4.538647\n",
      "1    -4.322455\n",
      "2    -2.370548\n",
      "3    -3.028821\n",
      "4    -0.949731\n",
      "5    -2.443813\n",
      "6    -5.357211\n",
      "7    -8.576596\n",
      "8    -1.821635\n",
      "9    -1.812809\n",
      "10   -3.883937\n",
      "11   -1.554709\n",
      "12   -1.015432\n",
      "dtype: float64 \n",
      "\n",
      "Means: \n",
      " 0     7.455910e-16\n",
      "1     4.168779e-16\n",
      "2    -4.027280e-17\n",
      "3    -1.749690e-16\n",
      "4    -8.625998e-17\n",
      "5     4.419123e-16\n",
      "6    -8.606950e-16\n",
      "7     1.458528e-16\n",
      "8    -1.153761e-16\n",
      "9    -2.394599e-16\n",
      "10    7.183796e-16\n",
      "11    1.044916e-16\n",
      "12   -6.095342e-17\n",
      "dtype: float64 \n",
      " \n",
      " Std: \n",
      " 0     1.004938\n",
      "1     1.004938\n",
      "2     1.004938\n",
      "3     1.004938\n",
      "4     1.004938\n",
      "5     1.004938\n",
      "6     1.004938\n",
      "7     1.004938\n",
      "8     1.004938\n",
      "9     1.004938\n",
      "10    1.004938\n",
      "11    1.004938\n",
      "12    1.004938\n",
      "dtype: float64\n"
     ]
    }
   ],
   "source": [
    "print('Maximos: \\n',pd.DataFrame(X_train).max(),'\\n \\n Mínimas: \\n',pd.DataFrame(X_train).min(),'\\n')\n",
    "print('Means: \\n',pd.DataFrame(X_train).mean(),'\\n \\n Std: \\n',pd.DataFrame(X_train).std())"
   ]
  },
  {
   "cell_type": "markdown",
   "metadata": {},
   "source": [
    "**Para pensar**:\n",
    "1. ¿Por qué será que es tan importante normalizar los datos en el caso de usar un algoritmo de KNN?\n",
    "2. Analizar los resultados de los estadísticos (Max, Min, Media y Std) después de usar la función `StandardScaler` y discutir si presentan los valores esperados."
   ]
  },
  {
   "cell_type": "markdown",
   "metadata": {},
   "source": [
    "### 1.3 Implementar el clasificador KNN \n",
    "Vamos a importar la clase del modelo KNN desde scikit-learn usando la siguiente linea: `from sklearn.neighbors import KNeighborsClassifier`. \n",
    "\n",
    "Cuando creamos un objeto de esta clase, podemos definir el valor de algunos atributos del modelo. Estos atributos son los **hiperparámetros** que queremos utilizar. En el caso de este modelo, estos atributos van a ser la métria de la distancia (que por default es la euclideana) y, el más importante, el número de vecinos `k`. Vamos a cargar el modelo utilizando `k=2` vecinos."
   ]
  },
  {
   "cell_type": "code",
   "execution_count": 8,
   "metadata": {},
   "outputs": [],
   "source": [
    "from sklearn.neighbors import KNeighborsClassifier\n",
    "from sklearn.tree import DecisionTreeClassifier\n",
    "\n",
    "n_neighbors = 2\n",
    "clf = KNeighborsClassifier(n_neighbors =n_neighbors )\n",
    "tree = DecisionTreeClassifier(max_depth=2)"
   ]
  },
  {
   "cell_type": "markdown",
   "metadata": {},
   "source": [
    "Ya estamos en condiciones de entrenar el modelo. \n",
    "\n",
    "**Ejercicio**: Entrenar el modelo con el set de entrenamiento y predecir las etiquetas tanto sobre el set de entrenamiento (train) como en el set de test."
   ]
  },
  {
   "cell_type": "code",
   "execution_count": 9,
   "metadata": {},
   "outputs": [
    {
     "name": "stdout",
     "output_type": "stream",
     "text": [
      "['marksman' 'mage' 'fighter' 'mage' 'fighter' 'mage' 'fighter' 'mage'\n",
      " 'marksman' 'mage' 'marksman' 'fighter' 'fighter' 'mage' 'fighter' 'mage'\n",
      " 'tank' 'fighter' 'fighter' 'mage' 'fighter' 'assasin' 'mage' 'mage'\n",
      " 'assasin' 'mage' 'mage' 'assasin' 'fighter' 'fighter' 'fighter' 'tank'\n",
      " 'marksman' 'mage' 'mage' 'mage' 'mage' 'fighter' 'mage' 'assasin'\n",
      " 'fighter' 'tank' 'mage' 'fighter']\n"
     ]
    }
   ],
   "source": [
    "clf.fit(X_train,y_train)\n",
    "tree.fit(X_train,y_train)\n",
    "\n",
    "y_train_pred = clf.predict(X_train)\n",
    "y_test_pred = clf.predict(X_test)\n",
    "y_train_pred_t = tree.predict(X_train)\n",
    "y_test_pred_t = tree.predict(X_test)\n",
    "\n",
    "print(y_test_pred)"
   ]
  },
  {
   "cell_type": "markdown",
   "metadata": {},
   "source": [
    "Para evaluar el porcentaje de aciertos en la predicción de las etiquetas, vamos a utilizar la función `accuracy_score` que importamos desde `sklearn.metrics`"
   ]
  },
  {
   "cell_type": "code",
   "execution_count": 10,
   "metadata": {},
   "outputs": [],
   "source": [
    "from sklearn.metrics import accuracy_score"
   ]
  },
  {
   "cell_type": "code",
   "execution_count": 11,
   "metadata": {},
   "outputs": [
    {
     "name": "stdout",
     "output_type": "stream",
     "text": [
      "Porcentaje de aceirtos sobre el set de entrenamiento: 0.7450980392156863\n",
      "Porcentaje de aceirtos sobre el set de evaluación: 0.6136363636363636\n",
      "Porcentaje de aceirtos tree sobre el set de entrenamiento: 0.7254901960784313\n",
      "Porcentaje de aceirtos tree sobre el set de evaluación: 0.6363636363636364\n"
     ]
    }
   ],
   "source": [
    "train_acc = accuracy_score(y_train, y_train_pred)\n",
    "test_acc = accuracy_score(y_test, y_test_pred)\n",
    "\n",
    "print('Porcentaje de aceirtos sobre el set de entrenamiento:', train_acc)\n",
    "print('Porcentaje de aceirtos sobre el set de evaluación:',test_acc)\n",
    "\n",
    "train_acc_t = accuracy_score(y_train, y_train_pred_t)\n",
    "test_acc_t = accuracy_score(y_test, y_test_pred_t)\n",
    "\n",
    "print('Porcentaje de aceirtos tree sobre el set de entrenamiento:', train_acc_t)\n",
    "print('Porcentaje de aceirtos tree sobre el set de evaluación:',test_acc_t)"
   ]
  },
  {
   "cell_type": "markdown",
   "metadata": {},
   "source": [
    "**Ejercicios**:\n",
    "\n",
    "1. ¿Son estos valores de accuracy que obtuvieron satisfactorios?\n",
    "2. ¿Será el parámetro de `k=2` el mejor para elegir en nuestro modelo?¿Cómo podríamos saberlo?\n"
   ]
  },
  {
   "cell_type": "markdown",
   "metadata": {},
   "source": [
    "### 1.4 Encontrar el mejor hiperparámetro\n",
    "\n",
    "Para esto, debemos evaluar el accuracy del modelo en el set de evaluación para distintos valores del parámetro `k`. Vamos entonces a repetir el esquema de: **definir, entrenar y predecir** en un loop `for` que recorre una lista con distintos valores de `k`.\n",
    "\n",
    "**Ejercicio**: Trabajar en el siguiente bloque de codigo, de manera de completar con valores las listas `lista_accuracy_train` y `lista_accuracy_test`."
   ]
  },
  {
   "cell_type": "code",
   "execution_count": 12,
   "metadata": {},
   "outputs": [],
   "source": [
    "# Definimos las listas vacias para los valores de accuracy deseados\n",
    "lista_accuracy_train = []\n",
    "lista_accuracy_test = []\n",
    "\n",
    "# Definimos la lista de valores de k que vamos a explorar\n",
    "k_vecinos = [1,2,3,4,5,6,7,8,9,10,15,20]\n",
    "\n",
    "# Generamos en loop sobre los distintos valores de k \n",
    "for k in k_vecinos:\n",
    "    \n",
    "    # Vamos a repetir el siguiente bloque de código\n",
    "    \n",
    "    # Definir el modelo con el valor de vecinos deseado\n",
    "    clf = KNeighborsClassifier(n_neighbors=k)\n",
    "    \n",
    "    # Entrenar el modelo\n",
    "    clf.fit(X_train,y_train)\n",
    "    \n",
    "    # Predecir y evaluar sobre el set de entrenamiento\n",
    "    y_train_pred = clf.predict(X_train)\n",
    "    train_acc = accuracy_score(y_train, y_train_pred)\n",
    "    \n",
    "    # Predecir y evaluar sobre el set de evaluación\n",
    "    y_test_pred = clf.predict(X_test)\n",
    "    test_acc = accuracy_score(y_test, y_test_pred)\n",
    "    \n",
    "    # Agregar la información a las listas\n",
    "    lista_accuracy_train.append(train_acc)\n",
    "    lista_accuracy_test.append(test_acc)"
   ]
  },
  {
   "cell_type": "markdown",
   "metadata": {},
   "source": [
    "**Ejercicio**: Realizar un gráfico que muestre la curvas de accuracy en el set de entrenamiento (`lista_accuracy_train`) y accuracy en el set de entrenamiento (`lista_accuracy_test`) en función del numero de vecinos (`k_vecinos`)."
   ]
  },
  {
   "cell_type": "code",
   "execution_count": 13,
   "metadata": {},
   "outputs": [
    {
     "data": {
      "text/plain": [
       "<matplotlib.legend.Legend at 0x1a1b368890>"
      ]
     },
     "execution_count": 13,
     "metadata": {},
     "output_type": "execute_result"
    },
    {
     "data": {
      "image/png": "[encoded data removed]",
      "text/plain": [
       "<Figure size 432x288 with 1 Axes>"
      ]
     },
     "metadata": {
      "needs_background": "light"
     },
     "output_type": "display_data"
    }
   ],
   "source": [
    "import matplotlib.pyplot as plt\n",
    "\n",
    "plt.plot(k_vecinos,lista_accuracy_train,'o-',label='train' )\n",
    "plt.plot(k_vecinos,lista_accuracy_test,'o-',label='test')\n",
    "plt.legend()"
   ]
  },
  {
   "cell_type": "markdown",
   "metadata": {},
   "source": [
    "**Para pensar**:\n",
    "1. Analice los resultados de las curvas obtenidas. ¿Les parecen razonables?\n",
    "2. Para el caso de `k = 1`, donde la performance en el set de entrenamiento es mucho mayor a la performance en en set de test. ¿En que tipo de régimen diría que se encuentra el modelo? ¿Por qué?\n",
    "3. ¿Qué valor de `k` eligiría? ¿Por qué?"
   ]
  },
  {
   "cell_type": "markdown",
   "metadata": {},
   "source": [
    "El siguiente bloque de codigo produce gráficos de la frontera de decisión para un clasificador KNN entrenado en el IRIS dataset utilizando distintos valores del hiperparámetro k. Con el fin de poder graficar los resultados, utilizamos sólo dos Features. \n",
    "\n",
    "No hace falta que modifique el código, sólo analice los gráficos producidos y vuelva a pensar las tres preguntas anteriores en términos de Underfitting y Overfitting."
   ]
  },
  {
   "cell_type": "code",
   "execution_count": 14,
   "metadata": {},
   "outputs": [
    {
     "data": {
      "image/png": "[encoded data removed]",
      "text/plain": [
       "<Figure size 432x288 with 1 Axes>"
      ]
     },
     "metadata": {
      "needs_background": "light"
     },
     "output_type": "display_data"
    },
    {
     "data": {
      "image/png": "[encoded data removed]",
      "text/plain": [
       "<Figure size 432x288 with 1 Axes>"
      ]
     },
     "metadata": {
      "needs_background": "light"
     },
     "output_type": "display_data"
    },
    {
     "data": {
      "image/png": "[encoded data removed]",
      "text/plain": [
       "<Figure size 432x288 with 1 Axes>"
      ]
     },
     "metadata": {
      "needs_background": "light"
     },
     "output_type": "display_data"
    }
   ],
   "source": [
    "import numpy as np\n",
    "import matplotlib.pyplot as plt\n",
    "from matplotlib.colors import ListedColormap\n",
    "from sklearn import neighbors, datasets\n",
    "\n",
    "iris = datasets.load_iris()\n",
    "X = iris.data[:, :2]\n",
    "y = iris.target\n",
    "h = .02  # step size in the mesh\n",
    "\n",
    "# Create color maps\n",
    "cmap_light = ListedColormap(['#FFAAAA', '#AAFFAA', '#AAAAFF'])\n",
    "cmap_bold = ListedColormap(['#FF0000', '#00FF00', '#0000FF'])\n",
    "\n",
    "for k in [1,8,50]:\n",
    "    \n",
    "    # we create an instance of Neighbours Classifier and fit the data.\n",
    "    clf = neighbors.KNeighborsClassifier(n_neighbors=k)\n",
    "    clf.fit(X, y)\n",
    "\n",
    "    # Plot the decision boundary. For that, we will assign a color to each\n",
    "    # point in the mesh [x_min, x_max]x[y_min, y_max].\n",
    "    x_min, x_max = X[:, 0].min() - 1, X[:, 0].max() + 1\n",
    "    y_min, y_max = X[:, 1].min() - 1, X[:, 1].max() + 1\n",
    "    xx, yy = np.meshgrid(np.arange(x_min, x_max, h),\n",
    "                         np.arange(y_min, y_max, h))\n",
    "    Z = clf.predict(np.c_[xx.ravel(), yy.ravel()])\n",
    "\n",
    "    # Put the result into a color plot\n",
    "    Z = Z.reshape(xx.shape)\n",
    "    plt.figure()\n",
    "    plt.pcolormesh(xx, yy, Z, cmap=cmap_light)\n",
    "\n",
    "    # Plot also the training points\n",
    "    plt.scatter(X[:, 0], X[:, 1], c=y, cmap=cmap_bold,\n",
    "                edgecolor='k', s=20)\n",
    "    \n",
    "    plt.xlim(xx.min(), xx.max())\n",
    "    plt.ylim(yy.min(), yy.max())\n",
    "    plt.title(\"Clasificador KNN con k = %i\"% (k))"
   ]
  },
  {
   "cell_type": "code",
   "execution_count": null,
   "metadata": {},
   "outputs": [],
   "source": []
  }
 ],
 "metadata": {
  "kernelspec": {
   "display_name": "Python 3",
   "language": "python",
   "name": "python3"
  },
  "language_info": {
   "codemirror_mode": {
    "name": "ipython",
    "version": 3
   },
   "file_extension": ".py",
   "mimetype": "text/x-python",
   "name": "python",
   "nbconvert_exporter": "python",
   "pygments_lexer": "ipython3",
   "version": "3.7.4"
  }
 },
 "nbformat": 4,
 "nbformat_minor": 4
}
