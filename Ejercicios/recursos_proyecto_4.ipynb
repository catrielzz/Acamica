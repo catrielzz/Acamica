{
 "cells": [
  {
   "cell_type": "markdown",
   "metadata": {},
   "source": [
    "# MiniProyecto 4: Optimización de parámetros"
   ]
  },
  {
   "cell_type": "markdown",
   "metadata": {},
   "source": [
    "¡Bienvenidos al cuarto (mini)proyecto de la carrera de Data Science de Acamica! \n",
    "\n",
    "En este proyecto vamos a seguir trabajando (por última vez) con el dataset de propiedades en venta publicadas en el portal [Properati](www.properati.com.ar). El objetivo en este caso es optimizar los parámetros de los algoritmos que usamos en el proyecto pasado.\n",
    "\n",
    "El dataset es el mismo del proyecto 3. Recordemos que las columnas que se agregan son:\n",
    "\n",
    "* `barrios_match`: si coincide el barrio publicado con el geográfico vale 1, si no 0.\n",
    "\n",
    "* `PH`, `apartment`, `house`: variables binarias que indican el tipo de propiedad.\n",
    "\n",
    "* dummies de barrios: variables binarias con 1 o 0 según el barrio.\n",
    "\n",
    "La métrica que vamos a usar para medir es RMSE (raíz del error cuadréatico medio), cuya fórmula es:\n",
    "\n",
    "$$RMSE = \\sqrt{\\frac{\\sum_{t=1}^n (\\hat y_t - y_t)^2}{n}}$$"
   ]
  },
  {
   "cell_type": "markdown",
   "metadata": {},
   "source": [
    "## Pandas - Levantamos el dataset"
   ]
  },
  {
   "cell_type": "code",
   "execution_count": 1,
   "metadata": {},
   "outputs": [],
   "source": [
    "import pandas as pd\n",
    "pd.set_option('display.float_format', lambda x: '%.3f' % x)\n",
    "path_dataset = '../csv/datos_properati_limpios_model.csv'\n",
    "df = pd.read_csv(path_dataset)"
   ]
  },
  {
   "cell_type": "markdown",
   "metadata": {},
   "source": [
    "**Separá** el dataset en entrenamiento (80%) y test (20%) utilizando como target la columna `price_aprox_usd`"
   ]
  },
  {
   "cell_type": "code",
   "execution_count": 2,
   "metadata": {},
   "outputs": [],
   "source": [
    "# Hacé la separación en esta celda"
   ]
  },
  {
   "cell_type": "code",
   "execution_count": 3,
   "metadata": {},
   "outputs": [
    {
     "name": "stdout",
     "output_type": "stream",
     "text": [
      "5100 1276\n"
     ]
    }
   ],
   "source": [
    "# Esto es lo que hace\n",
    "import numpy as np\n",
    "np.random.seed(123)\n",
    "from sklearn.model_selection import train_test_split\n",
    "X = df.drop(['price_aprox_usd'], axis=1)\n",
    "y = df['price_aprox_usd']\n",
    "X_train, X_test, y_train, y_test = train_test_split(\n",
    "    X, y, test_size=0.2, random_state=42)\n",
    "\n",
    "print(X_train.shape[0], X_test.shape[0])"
   ]
  },
  {
   "cell_type": "markdown",
   "metadata": {},
   "source": [
    "## Scikit-learn - Entrenamiento"
   ]
  },
  {
   "cell_type": "markdown",
   "metadata": {},
   "source": [
    "Para repasar los parámetros de árboles de decisión en Scikit-learn: \n",
    "\n",
    "http://scikit-learn.org/stable/modules/generated/sklearn.tree.DecisionTreeRegressor.html"
   ]
  },
  {
   "cell_type": "markdown",
   "metadata": {},
   "source": [
    "En primer lugar veamos como hacer cross validation. Para eso necesitamos definir la cantidad de folds, en este caso vamos a usar 5.\n",
    "\n",
    "GridSearchCV nos permite testear a través de un espacio de búsqueda de parámetros la mejor combinación posible dado un estimador.\n",
    "\n",
    "Por ejemplo, en este caso probamos la profundidad máxima y la máxima cantidad de features para hacer los split. Ambos entre 1 y 5.\n",
    "Recordemos que para hacer la optimización scikit-learn usa la métrica `neg_mean_squared_error` en lugar de `mean_squared_error`."
   ]
  },
  {
   "cell_type": "markdown",
   "metadata": {},
   "source": [
    "**Creá** una variable `param_grid` con valores del 1 al 5 para los atributos `max_depth` y `max_features`. "
   ]
  },
  {
   "cell_type": "code",
   "execution_count": 4,
   "metadata": {},
   "outputs": [],
   "source": [
    "# Creá en esta celda la variable param_grid\n",
    "from sklearn.model_selection import GridSearchCV\n",
    "from sklearn.tree import DecisionTreeRegressor\n",
    "param_grid = [\n",
    "    {'max_depth': [1, 2, 3, 4, 5], 'max_features': [1, 2, 3, 4, 5]}, \n",
    "]\n"
   ]
  },
  {
   "cell_type": "markdown",
   "metadata": {},
   "source": [
    "**Importá** `GridSearchCV` y `DecisionTreeRegressor`.\n",
    "\n",
    "**Creá** una variable `grid_search` y asignale un `GridSearchCV` que recorra el `param_grid` que creaste con el algoritmos `DecisionTreeRegressor` y el un scoring de `neg_mean_squared_error`"
   ]
  },
  {
   "cell_type": "code",
   "execution_count": 5,
   "metadata": {},
   "outputs": [],
   "source": [
    "# Importa y crea un GridSearchCV en esta celda\n",
    "tree_reg = DecisionTreeRegressor()\n",
    "grid_search = GridSearchCV(tree_reg, param_grid, cv=5,\n",
    "                           scoring='neg_mean_squared_error', refit=True)"
   ]
  },
  {
   "cell_type": "markdown",
   "metadata": {},
   "source": [
    "A continuación, realizá el `fit` del `grid_search` con el conjunto de entrenamiento"
   ]
  },
  {
   "cell_type": "code",
   "execution_count": 6,
   "metadata": {},
   "outputs": [
    {
     "data": {
      "text/plain": [
       "GridSearchCV(cv=5, error_score='raise-deprecating',\n",
       "             estimator=DecisionTreeRegressor(criterion='mse', max_depth=None,\n",
       "                                             max_features=None,\n",
       "                                             max_leaf_nodes=None,\n",
       "                                             min_impurity_decrease=0.0,\n",
       "                                             min_impurity_split=None,\n",
       "                                             min_samples_leaf=1,\n",
       "                                             min_samples_split=2,\n",
       "                                             min_weight_fraction_leaf=0.0,\n",
       "                                             presort=False, random_state=None,\n",
       "                                             splitter='best'),\n",
       "             iid='warn', n_jobs=None,\n",
       "             param_grid=[{'max_depth': [1, 2, 3, 4, 5],\n",
       "                          'max_features': [1, 2, 3, 4, 5]}],\n",
       "             pre_dispatch='2*n_jobs', refit=True, return_train_score=False,\n",
       "             scoring='neg_mean_squared_error', verbose=0)"
      ]
     },
     "execution_count": 6,
     "metadata": {},
     "output_type": "execute_result"
    }
   ],
   "source": [
    "# Hace el fit de grid search en esta celda\n",
    "grid_search.fit(X_train, y_train)"
   ]
  },
  {
   "cell_type": "markdown",
   "metadata": {},
   "source": [
    "Revisemos los resultados. Recordemos que no están expresados en RMSE."
   ]
  },
  {
   "cell_type": "code",
   "execution_count": 7,
   "metadata": {},
   "outputs": [
    {
     "data": {
      "text/plain": [
       "make_scorer(mean_squared_error, greater_is_better=False)"
      ]
     },
     "execution_count": 7,
     "metadata": {},
     "output_type": "execute_result"
    }
   ],
   "source": [
    "grid_search.scorer_"
   ]
  },
  {
   "cell_type": "code",
   "execution_count": null,
   "metadata": {},
   "outputs": [],
   "source": [
    "# Hay unas opciones/mejoras que se podrían tener en cuenta:\n",
    "\n",
    "# Mostrá los grid_scores obtenidos durante el grid_search\n",
    "\n",
    "# El gridsearch.grid_scores no está disponible desde la versión 0.20 de sklearn. Sin embargo se podría hacer lo siguiente:\n",
    "# results = pd.DataFrame(grid_search.cv_results_, columns=['rank_test_score','params','mean_test_score','std_test_score','mean_train_score','std_train_score'])\n",
    "# results.sort_values(by=['rank_test_score'],inplace=True)\n",
    "# results.head() #####Esto me lo escribieron en la entrega.#####"
   ]
  },
  {
   "cell_type": "markdown",
   "metadata": {},
   "source": [
    "**Mostrá** los `grid_scores` obtenidos durante el `grid_search`"
   ]
  },
  {
   "cell_type": "code",
   "execution_count": 8,
   "metadata": {},
   "outputs": [
    {
     "data": {
      "text/plain": [
       "{'mean_fit_time': array([0.00400405, 0.00252867, 0.00252571, 0.00277929, 0.00248947,\n",
       "        0.00248723, 0.00267677, 0.00271401, 0.00259252, 0.00267339,\n",
       "        0.00255585, 0.00393033, 0.00379462, 0.00305018, 0.00276518,\n",
       "        0.00273395, 0.0029007 , 0.00295415, 0.00284719, 0.00293341,\n",
       "        0.00290594, 0.00328317, 0.00304585, 0.00297804, 0.00313759]),\n",
       " 'std_fit_time': array([1.54082425e-03, 1.49819018e-04, 1.85550420e-04, 5.27639964e-04,\n",
       "        6.13481350e-05, 1.26685089e-04, 1.74761332e-04, 3.37896769e-04,\n",
       "        6.69254839e-05, 1.94177260e-04, 1.85385616e-04, 6.16477311e-04,\n",
       "        3.93881503e-04, 9.88875195e-05, 1.16591414e-04, 9.39924541e-05,\n",
       "        1.46499912e-04, 1.19640106e-04, 6.51588860e-05, 3.69465560e-04,\n",
       "        2.47660131e-04, 6.69472214e-04, 2.20113652e-04, 1.96570496e-04,\n",
       "        3.24677507e-04]),\n",
       " 'mean_score_time': array([0.00139012, 0.00107727, 0.0010397 , 0.00104508, 0.00098758,\n",
       "        0.00102911, 0.00102396, 0.00102177, 0.00099487, 0.00098767,\n",
       "        0.00099711, 0.00166416, 0.00136881, 0.00113544, 0.0010428 ,\n",
       "        0.00111609, 0.00106764, 0.00103312, 0.00106874, 0.00099936,\n",
       "        0.00103736, 0.00136104, 0.00101352, 0.0010138 , 0.00100565]),\n",
       " 'std_score_time': array([4.02938589e-04, 8.77904476e-05, 8.33680465e-05, 5.58648056e-05,\n",
       "        7.51287170e-06, 5.88388071e-05, 4.30344941e-05, 8.50561213e-05,\n",
       "        1.72476687e-05, 8.02532662e-06, 2.69458986e-05, 2.53182032e-04,\n",
       "        2.52228621e-04, 1.20177401e-04, 6.05540762e-05, 4.51044601e-05,\n",
       "        4.33069482e-05, 2.85423586e-05, 8.39519994e-05, 8.30928940e-06,\n",
       "        5.18701523e-05, 3.97708106e-04, 9.06617801e-06, 1.33849473e-05,\n",
       "        1.31047830e-05]),\n",
       " 'param_max_depth': masked_array(data=[1, 1, 1, 1, 1, 2, 2, 2, 2, 2, 3, 3, 3, 3, 3, 4, 4, 4,\n",
       "                    4, 4, 5, 5, 5, 5, 5],\n",
       "              mask=[False, False, False, False, False, False, False, False,\n",
       "                    False, False, False, False, False, False, False, False,\n",
       "                    False, False, False, False, False, False, False, False,\n",
       "                    False],\n",
       "        fill_value='?',\n",
       "             dtype=object),\n",
       " 'param_max_features': masked_array(data=[1, 2, 3, 4, 5, 1, 2, 3, 4, 5, 1, 2, 3, 4, 5, 1, 2, 3,\n",
       "                    4, 5, 1, 2, 3, 4, 5],\n",
       "              mask=[False, False, False, False, False, False, False, False,\n",
       "                    False, False, False, False, False, False, False, False,\n",
       "                    False, False, False, False, False, False, False, False,\n",
       "                    False],\n",
       "        fill_value='?',\n",
       "             dtype=object),\n",
       " 'params': [{'max_depth': 1, 'max_features': 1},\n",
       "  {'max_depth': 1, 'max_features': 2},\n",
       "  {'max_depth': 1, 'max_features': 3},\n",
       "  {'max_depth': 1, 'max_features': 4},\n",
       "  {'max_depth': 1, 'max_features': 5},\n",
       "  {'max_depth': 2, 'max_features': 1},\n",
       "  {'max_depth': 2, 'max_features': 2},\n",
       "  {'max_depth': 2, 'max_features': 3},\n",
       "  {'max_depth': 2, 'max_features': 4},\n",
       "  {'max_depth': 2, 'max_features': 5},\n",
       "  {'max_depth': 3, 'max_features': 1},\n",
       "  {'max_depth': 3, 'max_features': 2},\n",
       "  {'max_depth': 3, 'max_features': 3},\n",
       "  {'max_depth': 3, 'max_features': 4},\n",
       "  {'max_depth': 3, 'max_features': 5},\n",
       "  {'max_depth': 4, 'max_features': 1},\n",
       "  {'max_depth': 4, 'max_features': 2},\n",
       "  {'max_depth': 4, 'max_features': 3},\n",
       "  {'max_depth': 4, 'max_features': 4},\n",
       "  {'max_depth': 4, 'max_features': 5},\n",
       "  {'max_depth': 5, 'max_features': 1},\n",
       "  {'max_depth': 5, 'max_features': 2},\n",
       "  {'max_depth': 5, 'max_features': 3},\n",
       "  {'max_depth': 5, 'max_features': 4},\n",
       "  {'max_depth': 5, 'max_features': 5}],\n",
       " 'split0_test_score': array([-9.97441086e+08, -9.92552007e+08, -9.94132879e+08, -9.99271969e+08,\n",
       "        -9.95065162e+08, -9.96667113e+08, -6.98604357e+08, -7.02405255e+08,\n",
       "        -9.96188501e+08, -9.85713747e+08, -9.82908715e+08, -9.53915377e+08,\n",
       "        -7.19589628e+08, -6.81184008e+08, -7.47809143e+08, -9.94077199e+08,\n",
       "        -9.58323322e+08, -9.65137666e+08, -7.10318858e+08, -7.20042990e+08,\n",
       "        -9.50202049e+08, -7.02219398e+08, -8.70805226e+08, -9.39546733e+08,\n",
       "        -9.38009644e+08]),\n",
       " 'split1_test_score': array([-9.78211342e+08, -9.87399015e+08, -9.93157871e+08, -7.37635506e+08,\n",
       "        -9.86070142e+08, -9.95845633e+08, -9.71213142e+08, -9.91561109e+08,\n",
       "        -7.31836824e+08, -9.83003075e+08, -9.92284013e+08, -9.66459250e+08,\n",
       "        -9.75606390e+08, -7.40534319e+08, -7.49501982e+08, -9.91717508e+08,\n",
       "        -9.79664811e+08, -7.42844251e+08, -6.96394183e+08, -8.67981111e+08,\n",
       "        -7.39611385e+08, -9.09562039e+08, -6.23050586e+08, -7.15419600e+08,\n",
       "        -8.46999396e+08]),\n",
       " 'split2_test_score': array([-9.34144134e+08, -9.32898809e+08, -9.17436843e+08, -9.19493504e+08,\n",
       "        -9.35566509e+08, -9.33708300e+08, -9.29726211e+08, -9.15729396e+08,\n",
       "        -8.93072955e+08, -8.31444347e+08, -8.58355202e+08, -8.91393134e+08,\n",
       "        -8.92771181e+08, -7.50994564e+08, -8.91247672e+08, -9.05188179e+08,\n",
       "        -8.95759514e+08, -8.03352158e+08, -7.16273040e+08, -8.98380863e+08,\n",
       "        -9.22878480e+08, -8.75662065e+08, -8.53234828e+08, -8.38513246e+08,\n",
       "        -7.54766469e+08]),\n",
       " 'split3_test_score': array([-1.00517938e+09, -1.00260115e+09, -9.96809162e+08, -1.00260115e+09,\n",
       "        -1.00593458e+09, -7.97099480e+08, -1.00466658e+09, -1.00581209e+09,\n",
       "        -9.97687544e+08, -9.15097523e+08, -9.92507241e+08, -7.95254199e+08,\n",
       "        -7.74030399e+08, -7.91296421e+08, -9.92816134e+08, -9.95666050e+08,\n",
       "        -9.85745319e+08, -7.46011059e+08, -7.19493746e+08, -9.88765151e+08,\n",
       "        -9.94569402e+08, -7.02760934e+08, -8.83927817e+08, -9.75581076e+08,\n",
       "        -9.17317207e+08]),\n",
       " 'split4_test_score': array([-9.24101444e+08, -9.24101444e+08, -9.65625386e+08, -9.71492633e+08,\n",
       "        -9.68519006e+08, -9.72642271e+08, -9.71530520e+08, -9.49579301e+08,\n",
       "        -9.55537710e+08, -9.19573293e+08, -9.36971746e+08, -9.75486202e+08,\n",
       "        -9.38231081e+08, -9.29304931e+08, -9.55934365e+08, -9.52864844e+08,\n",
       "        -9.29492944e+08, -7.36760948e+08, -7.26010799e+08, -9.39833293e+08,\n",
       "        -7.06061230e+08, -9.46847863e+08, -6.84139800e+08, -6.32051796e+08,\n",
       "        -8.62914710e+08]),\n",
       " 'mean_test_score': array([-9.67815478e+08, -9.67910484e+08, -9.73432428e+08, -9.26098952e+08,\n",
       "        -9.78231080e+08, -9.39192560e+08, -9.15148163e+08, -9.13017431e+08,\n",
       "        -9.14864707e+08, -9.26966397e+08, -9.52605383e+08, -9.16501632e+08,\n",
       "        -8.60045736e+08, -7.78662849e+08, -8.67461859e+08, -9.67902756e+08,\n",
       "        -9.49797182e+08, -7.98821216e+08, -7.13698125e+08, -8.83000682e+08,\n",
       "        -8.62664509e+08, -8.27410460e+08, -7.83031651e+08, -8.20222490e+08,\n",
       "        -8.64001486e+08]),\n",
       " 'std_test_score': array([3.29438558e+07, 3.26664932e+07, 3.02010891e+07, 9.88226339e+07,\n",
       "        2.46045162e+07, 7.46355124e+07, 1.10850836e+08, 1.09983247e+08,\n",
       "        9.90974890e+07, 5.64116132e+07, 5.14049628e+07, 6.73885866e+07,\n",
       "        9.76368004e+07, 8.31553815e+07, 1.02311435e+08, 3.51633372e+07,\n",
       "        3.34346246e+07, 8.65511424e+07, 1.00266365e+07, 9.10312204e+07,\n",
       "        1.16922284e+08, 1.04453529e+08, 1.07876098e+08, 1.30461468e+08,\n",
       "        6.40972928e+07]),\n",
       " 'rank_test_score': array([21, 23, 24, 16, 25, 18, 14, 12, 13, 17, 20, 15,  7,  2, 10, 22, 19,\n",
       "         4,  1, 11,  8,  6,  3,  5,  9], dtype=int32)}"
      ]
     },
     "execution_count": 8,
     "metadata": {},
     "output_type": "execute_result"
    }
   ],
   "source": [
    "# Mostrá los grid_scores en esta celda\n",
    "grid_search.cv_results_"
   ]
  },
  {
   "cell_type": "markdown",
   "metadata": {},
   "source": [
    "De esta manera, el valor con mejor resultado (dado el espacio de búsqueda definido) es `max_depth` 3 y `max_features` 3."
   ]
  },
  {
   "cell_type": "markdown",
   "metadata": {},
   "source": [
    "**Mostrá** el mejor score y los mejores parámetros encontrados por `grid_search`"
   ]
  },
  {
   "cell_type": "code",
   "execution_count": 9,
   "metadata": {},
   "outputs": [
    {
     "name": "stdout",
     "output_type": "stream",
     "text": [
      "Los mejores parametros son: {'max_depth': 4, 'max_features': 4}, el mejor score es: -713698124.9712428\n"
     ]
    }
   ],
   "source": [
    "# Mostrás los resultados en esta celda\n",
    "print('Los mejores parametros son: {}, el mejor score es: {}'.format(grid_search.best_params_,\n",
    "grid_search.best_score_))"
   ]
  },
  {
   "cell_type": "markdown",
   "metadata": {},
   "source": [
    "Convertimos a RMSE."
   ]
  },
  {
   "cell_type": "code",
   "execution_count": 10,
   "metadata": {},
   "outputs": [],
   "source": [
    "def nmsq2rmse(score):\n",
    "    return np.round(np.sqrt(-score), 2)"
   ]
  },
  {
   "cell_type": "code",
   "execution_count": 11,
   "metadata": {},
   "outputs": [
    {
     "data": {
      "text/plain": [
       "26715.13"
      ]
     },
     "execution_count": 11,
     "metadata": {},
     "output_type": "execute_result"
    }
   ],
   "source": [
    "nmsq2rmse(grid_search.best_score_)"
   ]
  },
  {
   "cell_type": "markdown",
   "metadata": {},
   "source": [
    "__Encontrar el mejor modelo para el espacio de búsqueda dado__\n",
    "\n",
    "* `\"min_samples_split\": [2, 10, 20]`\n",
    "* `\"max_depth\": [None, 2, 5, 10, 15]`\n",
    "* `\"min_samples_leaf\": [1, 5, 10, 15]`\n",
    "* `\"max_leaf_nodes\": [None, 5, 10, 20]`"
   ]
  },
  {
   "cell_type": "markdown",
   "metadata": {},
   "source": [
    "Recordemos que `GridSearchCV` tiene como parámetro default `refit=True`. Esto significa que luego de hacer la corrida se ajusta el mejor modelo al conjunto de datos de entrada. De esta manera, se puede predecir directamente usando `best_estimator_`."
   ]
  },
  {
   "cell_type": "code",
   "execution_count": 12,
   "metadata": {},
   "outputs": [],
   "source": [
    "param_grid = [\n",
    "    {\"min_samples_split\": [2, 10, 20],\n",
    "\"max_depth\": [None, 2, 5, 10, 15],\n",
    "\"min_samples_leaf\": [1, 5, 10, 15],\n",
    "\"max_leaf_nodes\": [None, 5, 10, 20]}, \n",
    "]"
   ]
  },
  {
   "cell_type": "code",
   "execution_count": 13,
   "metadata": {},
   "outputs": [
    {
     "data": {
      "text/plain": [
       "GridSearchCV(cv=5, error_score='raise-deprecating',\n",
       "             estimator=DecisionTreeRegressor(criterion='mse', max_depth=None,\n",
       "                                             max_features=None,\n",
       "                                             max_leaf_nodes=None,\n",
       "                                             min_impurity_decrease=0.0,\n",
       "                                             min_impurity_split=None,\n",
       "                                             min_samples_leaf=1,\n",
       "                                             min_samples_split=2,\n",
       "                                             min_weight_fraction_leaf=0.0,\n",
       "                                             presort=False, random_state=None,\n",
       "                                             splitter='best'),\n",
       "             iid='warn', n_jobs=None,\n",
       "             param_grid=[{'max_depth': [None, 2, 5, 10, 15],\n",
       "                          'max_leaf_nodes': [None, 5, 10, 20],\n",
       "                          'min_samples_leaf': [1, 5, 10, 15],\n",
       "                          'min_samples_split': [2, 10, 20]}],\n",
       "             pre_dispatch='2*n_jobs', refit=True, return_train_score=False,\n",
       "             scoring='neg_mean_squared_error', verbose=0)"
      ]
     },
     "execution_count": 13,
     "metadata": {},
     "output_type": "execute_result"
    }
   ],
   "source": [
    "grid_search = GridSearchCV(tree_reg, param_grid, cv=5,\n",
    "                           scoring='neg_mean_squared_error', refit=True)\n",
    "grid_search.fit(X_train, y_train)"
   ]
  },
  {
   "cell_type": "code",
   "execution_count": 14,
   "metadata": {},
   "outputs": [],
   "source": [
    "optimised_decision_tree = grid_search.best_estimator_"
   ]
  },
  {
   "cell_type": "markdown",
   "metadata": {},
   "source": [
    "__Evaluemos en testing el desempeño de este modelo.__\n",
    "\n",
    "Como venimos trabajando, el resultado en testing será la medición que usaremos como benchmark para comparar este modelos con otros en el futuro, puesto que no estuvo en contacto con el dataset de test para la calibración."
   ]
  },
  {
   "cell_type": "code",
   "execution_count": 15,
   "metadata": {},
   "outputs": [
    {
     "data": {
      "text/plain": [
       "21301.0"
      ]
     },
     "execution_count": 15,
     "metadata": {},
     "output_type": "execute_result"
    }
   ],
   "source": [
    "from sklearn.metrics import mean_squared_error\n",
    "y_opt_pred = optimised_decision_tree.predict(X_test)\n",
    "rmse = np.sqrt(mean_squared_error(y_test, y_opt_pred))\n",
    "np.round(rmse)"
   ]
  },
  {
   "cell_type": "markdown",
   "metadata": {},
   "source": [
    "Vemos los primeros 10 resultados de la predicción del valor de propiedades."
   ]
  },
  {
   "cell_type": "code",
   "execution_count": 16,
   "metadata": {},
   "outputs": [],
   "source": [
    "val_real = pd.Series(y_test.values)\n",
    "val_pred = pd.Series(y_opt_pred)"
   ]
  },
  {
   "cell_type": "code",
   "execution_count": 17,
   "metadata": {},
   "outputs": [],
   "source": [
    "predicciones = pd.concat([val_real.rename('Valor real'),val_pred.rename('Valor Pred') ,abs(val_real-val_pred).rename('Dif(+/-)')] ,  axis=1)"
   ]
  },
  {
   "cell_type": "code",
   "execution_count": 18,
   "metadata": {},
   "outputs": [
    {
     "data": {
      "text/html": [
       "<div>\n",
       "<style scoped>\n",
       "    .dataframe tbody tr th:only-of-type {\n",
       "        vertical-align: middle;\n",
       "    }\n",
       "\n",
       "    .dataframe tbody tr th {\n",
       "        vertical-align: top;\n",
       "    }\n",
       "\n",
       "    .dataframe thead th {\n",
       "        text-align: right;\n",
       "    }\n",
       "</style>\n",
       "<table border=\"1\" class=\"dataframe\">\n",
       "  <thead>\n",
       "    <tr style=\"text-align: right;\">\n",
       "      <th></th>\n",
       "      <th>Valor real</th>\n",
       "      <th>Valor Pred</th>\n",
       "      <th>Dif(+/-)</th>\n",
       "    </tr>\n",
       "  </thead>\n",
       "  <tbody>\n",
       "    <tr>\n",
       "      <td>0</td>\n",
       "      <td>80000.000</td>\n",
       "      <td>103438.660</td>\n",
       "      <td>23438.660</td>\n",
       "    </tr>\n",
       "    <tr>\n",
       "      <td>1</td>\n",
       "      <td>128000.000</td>\n",
       "      <td>135705.882</td>\n",
       "      <td>7705.882</td>\n",
       "    </tr>\n",
       "    <tr>\n",
       "      <td>2</td>\n",
       "      <td>150000.000</td>\n",
       "      <td>156075.759</td>\n",
       "      <td>6075.759</td>\n",
       "    </tr>\n",
       "    <tr>\n",
       "      <td>3</td>\n",
       "      <td>85000.000</td>\n",
       "      <td>102400.991</td>\n",
       "      <td>17400.991</td>\n",
       "    </tr>\n",
       "    <tr>\n",
       "      <td>4</td>\n",
       "      <td>135000.000</td>\n",
       "      <td>135571.622</td>\n",
       "      <td>571.622</td>\n",
       "    </tr>\n",
       "    <tr>\n",
       "      <td>5</td>\n",
       "      <td>135000.000</td>\n",
       "      <td>109560.000</td>\n",
       "      <td>25440.000</td>\n",
       "    </tr>\n",
       "    <tr>\n",
       "      <td>6</td>\n",
       "      <td>68000.000</td>\n",
       "      <td>75181.250</td>\n",
       "      <td>7181.250</td>\n",
       "    </tr>\n",
       "    <tr>\n",
       "      <td>7</td>\n",
       "      <td>110000.000</td>\n",
       "      <td>140444.444</td>\n",
       "      <td>30444.444</td>\n",
       "    </tr>\n",
       "    <tr>\n",
       "      <td>8</td>\n",
       "      <td>134000.000</td>\n",
       "      <td>158431.250</td>\n",
       "      <td>24431.250</td>\n",
       "    </tr>\n",
       "    <tr>\n",
       "      <td>9</td>\n",
       "      <td>110000.000</td>\n",
       "      <td>76701.202</td>\n",
       "      <td>33298.798</td>\n",
       "    </tr>\n",
       "  </tbody>\n",
       "</table>\n",
       "</div>"
      ],
      "text/plain": [
       "   Valor real  Valor Pred  Dif(+/-)\n",
       "0   80000.000  103438.660 23438.660\n",
       "1  128000.000  135705.882  7705.882\n",
       "2  150000.000  156075.759  6075.759\n",
       "3   85000.000  102400.991 17400.991\n",
       "4  135000.000  135571.622   571.622\n",
       "5  135000.000  109560.000 25440.000\n",
       "6   68000.000   75181.250  7181.250\n",
       "7  110000.000  140444.444 30444.444\n",
       "8  134000.000  158431.250 24431.250\n",
       "9  110000.000   76701.202 33298.798"
      ]
     },
     "execution_count": 18,
     "metadata": {},
     "output_type": "execute_result"
    }
   ],
   "source": [
    "predicciones.head(10)"
   ]
  }
 ],
 "metadata": {
  "kernelspec": {
   "display_name": "Python 3",
   "language": "python",
   "name": "python3"
  },
  "language_info": {
   "codemirror_mode": {
    "name": "ipython",
    "version": 3
   },
   "file_extension": ".py",
   "mimetype": "text/x-python",
   "name": "python",
   "nbconvert_exporter": "python",
   "pygments_lexer": "ipython3",
   "version": "3.7.4"
  }
 },
 "nbformat": 4,
 "nbformat_minor": 4
}
