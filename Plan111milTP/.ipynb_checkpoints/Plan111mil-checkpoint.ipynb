{
 "cells": [
  {
   "cell_type": "code",
   "execution_count": null,
   "metadata": {},
   "outputs": [],
   "source": []
  },
  {
   "cell_type": "markdown",
   "metadata": {},
   "source": [
    "#### Objetivo del plan: Formar programadores y emprendedores en desarrollo de software con el objetivo de cubrir la demanda laboral de las Industrias Basadas en el Conocimiento."
   ]
  },
  {
   "cell_type": "code",
   "execution_count": 17,
   "metadata": {},
   "outputs": [],
   "source": [
    "# Importar bibliotecas en esta celda\n",
    "import numpy as np\n",
    "import matplotlib.pyplot as plt\n",
    "import seaborn as sns\n",
    "import pandas as pd"
   ]
  },
  {
   "cell_type": "code",
   "execution_count": 4,
   "metadata": {},
   "outputs": [],
   "source": [
    "# La siguiente línea es para ver las imagenes dentro del notebook\n",
    "%matplotlib inline\n",
    "# Acá configuramos el tamaño de las figuras\n",
    "plt.rcParams['figure.figsize'] = (12,8)\n",
    "# Seteamos opciones de pandas sobre las columnas y su ancho\n",
    "pd.set_option('max_columns', 120)\n",
    "pd.set_option('max_colwidth', 5000)"
   ]
  },
  {
   "cell_type": "code",
   "execution_count": 30,
   "metadata": {},
   "outputs": [],
   "source": [
    "dataset = pd.read_csv('personas-certificadas.csv', parse_dates=True)\n",
    "dataset = dataset.sort_values(by = 'llamado_certificacion')"
   ]
  },
  {
   "cell_type": "code",
   "execution_count": 31,
   "metadata": {},
   "outputs": [
    {
     "data": {
      "text/html": [
       "<div>\n",
       "<style scoped>\n",
       "    .dataframe tbody tr th:only-of-type {\n",
       "        vertical-align: middle;\n",
       "    }\n",
       "\n",
       "    .dataframe tbody tr th {\n",
       "        vertical-align: top;\n",
       "    }\n",
       "\n",
       "    .dataframe thead th {\n",
       "        text-align: right;\n",
       "    }\n",
       "</style>\n",
       "<table border=\"1\" class=\"dataframe\">\n",
       "  <thead>\n",
       "    <tr style=\"text-align: right;\">\n",
       "      <th></th>\n",
       "      <th>dni_alumno</th>\n",
       "      <th>apellido_alumno</th>\n",
       "      <th>nombre_alumno</th>\n",
       "      <th>provincia_examen</th>\n",
       "      <th>id_provincia</th>\n",
       "      <th>localidad</th>\n",
       "      <th>sede_nombre</th>\n",
       "      <th>sede_direccion</th>\n",
       "      <th>llamado_certificacion</th>\n",
       "    </tr>\n",
       "  </thead>\n",
       "  <tbody>\n",
       "    <tr>\n",
       "      <td>966</td>\n",
       "      <td>16912142</td>\n",
       "      <td>Salcedo</td>\n",
       "      <td>Norma Noemi</td>\n",
       "      <td>Ciudad Autónoma de Buenos Aires</td>\n",
       "      <td>2</td>\n",
       "      <td>Monserrat</td>\n",
       "      <td>Universidad Caece</td>\n",
       "      <td>Av. de Mayo 866</td>\n",
       "      <td>abr-18</td>\n",
       "    </tr>\n",
       "    <tr>\n",
       "      <td>1004</td>\n",
       "      <td>37556388</td>\n",
       "      <td>Sivilotti</td>\n",
       "      <td>Pablo Andres</td>\n",
       "      <td>Ciudad Autónoma de Buenos Aires</td>\n",
       "      <td>2</td>\n",
       "      <td>Villa Crespo</td>\n",
       "      <td>I.F.T.S. N° 20</td>\n",
       "      <td>Gurruchaga 739</td>\n",
       "      <td>abr-18</td>\n",
       "    </tr>\n",
       "    <tr>\n",
       "      <td>1005</td>\n",
       "      <td>95463330</td>\n",
       "      <td>Pineda</td>\n",
       "      <td>Maria Gabriela</td>\n",
       "      <td>Ciudad Autónoma de Buenos Aires</td>\n",
       "      <td>2</td>\n",
       "      <td>Villa Crespo</td>\n",
       "      <td>I.F.T.S. N° 20</td>\n",
       "      <td>Gurruchaga 739</td>\n",
       "      <td>abr-18</td>\n",
       "    </tr>\n",
       "    <tr>\n",
       "      <td>1006</td>\n",
       "      <td>36825400</td>\n",
       "      <td>Tazzioli</td>\n",
       "      <td>Jonathan Alejandro</td>\n",
       "      <td>Ciudad Autónoma de Buenos Aires</td>\n",
       "      <td>2</td>\n",
       "      <td>Villa Crespo</td>\n",
       "      <td>I.F.T.S. N° 20</td>\n",
       "      <td>Gurruchaga 739</td>\n",
       "      <td>abr-18</td>\n",
       "    </tr>\n",
       "    <tr>\n",
       "      <td>1007</td>\n",
       "      <td>38788069</td>\n",
       "      <td>Gonzalez</td>\n",
       "      <td>Alexis Gaston</td>\n",
       "      <td>Ciudad Autónoma de Buenos Aires</td>\n",
       "      <td>2</td>\n",
       "      <td>Villa Crespo</td>\n",
       "      <td>I.F.T.S. N° 20</td>\n",
       "      <td>Gurruchaga 739</td>\n",
       "      <td>abr-18</td>\n",
       "    </tr>\n",
       "    <tr>\n",
       "      <td>...</td>\n",
       "      <td>...</td>\n",
       "      <td>...</td>\n",
       "      <td>...</td>\n",
       "      <td>...</td>\n",
       "      <td>...</td>\n",
       "      <td>...</td>\n",
       "      <td>...</td>\n",
       "      <td>...</td>\n",
       "      <td>...</td>\n",
       "    </tr>\n",
       "    <tr>\n",
       "      <td>1054</td>\n",
       "      <td>41265390</td>\n",
       "      <td>Fullone</td>\n",
       "      <td>Agustin Ezequiel</td>\n",
       "      <td>Córdoba</td>\n",
       "      <td>14</td>\n",
       "      <td>Córdoba</td>\n",
       "      <td>Universidad Nacional de Córdoba</td>\n",
       "      <td>Av. Vélez Sarsfield 1611</td>\n",
       "      <td>oct-17</td>\n",
       "    </tr>\n",
       "    <tr>\n",
       "      <td>1846</td>\n",
       "      <td>25320290</td>\n",
       "      <td>Barrios</td>\n",
       "      <td>Daniel Roberto</td>\n",
       "      <td>Tucumán</td>\n",
       "      <td>90</td>\n",
       "      <td>Concepción</td>\n",
       "      <td>Escuela Técnica N° 1 de Concepción</td>\n",
       "      <td>Nasif Estefano 100 y Shipton</td>\n",
       "      <td>oct-17</td>\n",
       "    </tr>\n",
       "    <tr>\n",
       "      <td>1845</td>\n",
       "      <td>39140811</td>\n",
       "      <td>Gramajo</td>\n",
       "      <td>Facundo Gonzalo</td>\n",
       "      <td>Tucumán</td>\n",
       "      <td>90</td>\n",
       "      <td>Concepción</td>\n",
       "      <td>Escuela Técnica N° 1 de Concepción</td>\n",
       "      <td>Nasif Estefano 100 y Shipton</td>\n",
       "      <td>oct-17</td>\n",
       "    </tr>\n",
       "    <tr>\n",
       "      <td>1203</td>\n",
       "      <td>39022886</td>\n",
       "      <td>Caminos Picco</td>\n",
       "      <td>Albano Ezequiel</td>\n",
       "      <td>Córdoba</td>\n",
       "      <td>14</td>\n",
       "      <td>Dean Funes</td>\n",
       "      <td>I.P.E.T. y A. N °53 \"Fray Luis Beltrán\"</td>\n",
       "      <td>Av. Fray Luís Beltran 300</td>\n",
       "      <td>oct-17</td>\n",
       "    </tr>\n",
       "    <tr>\n",
       "      <td>509</td>\n",
       "      <td>36191404</td>\n",
       "      <td>Fernandez</td>\n",
       "      <td>Fernando</td>\n",
       "      <td>Chaco</td>\n",
       "      <td>22</td>\n",
       "      <td>Resistencia</td>\n",
       "      <td>UTN Facultad Regional Resistencia</td>\n",
       "      <td>French 414</td>\n",
       "      <td>oct-17</td>\n",
       "    </tr>\n",
       "  </tbody>\n",
       "</table>\n",
       "<p>1933 rows × 9 columns</p>\n",
       "</div>"
      ],
      "text/plain": [
       "      dni_alumno apellido_alumno       nombre_alumno  \\\n",
       "966     16912142         Salcedo         Norma Noemi   \n",
       "1004    37556388       Sivilotti        Pablo Andres   \n",
       "1005    95463330          Pineda      Maria Gabriela   \n",
       "1006    36825400        Tazzioli  Jonathan Alejandro   \n",
       "1007    38788069        Gonzalez       Alexis Gaston   \n",
       "...          ...             ...                 ...   \n",
       "1054    41265390         Fullone    Agustin Ezequiel   \n",
       "1846    25320290         Barrios      Daniel Roberto   \n",
       "1845    39140811         Gramajo     Facundo Gonzalo   \n",
       "1203    39022886   Caminos Picco     Albano Ezequiel   \n",
       "509     36191404       Fernandez            Fernando   \n",
       "\n",
       "                     provincia_examen  id_provincia     localidad  \\\n",
       "966   Ciudad Autónoma de Buenos Aires             2     Monserrat   \n",
       "1004  Ciudad Autónoma de Buenos Aires             2  Villa Crespo   \n",
       "1005  Ciudad Autónoma de Buenos Aires             2  Villa Crespo   \n",
       "1006  Ciudad Autónoma de Buenos Aires             2  Villa Crespo   \n",
       "1007  Ciudad Autónoma de Buenos Aires             2  Villa Crespo   \n",
       "...                               ...           ...           ...   \n",
       "1054                          Córdoba            14       Córdoba   \n",
       "1846                          Tucumán            90    Concepción   \n",
       "1845                          Tucumán            90    Concepción   \n",
       "1203                          Córdoba            14    Dean Funes   \n",
       "509                             Chaco            22   Resistencia   \n",
       "\n",
       "                                  sede_nombre                sede_direccion  \\\n",
       "966                         Universidad Caece               Av. de Mayo 866   \n",
       "1004                           I.F.T.S. N° 20                Gurruchaga 739   \n",
       "1005                           I.F.T.S. N° 20                Gurruchaga 739   \n",
       "1006                           I.F.T.S. N° 20                Gurruchaga 739   \n",
       "1007                           I.F.T.S. N° 20                Gurruchaga 739   \n",
       "...                                       ...                           ...   \n",
       "1054          Universidad Nacional de Córdoba      Av. Vélez Sarsfield 1611   \n",
       "1846       Escuela Técnica N° 1 de Concepción  Nasif Estefano 100 y Shipton   \n",
       "1845       Escuela Técnica N° 1 de Concepción  Nasif Estefano 100 y Shipton   \n",
       "1203  I.P.E.T. y A. N °53 \"Fray Luis Beltrán\"     Av. Fray Luís Beltran 300   \n",
       "509         UTN Facultad Regional Resistencia                    French 414   \n",
       "\n",
       "     llamado_certificacion  \n",
       "966                 abr-18  \n",
       "1004                abr-18  \n",
       "1005                abr-18  \n",
       "1006                abr-18  \n",
       "1007                abr-18  \n",
       "...                    ...  \n",
       "1054                oct-17  \n",
       "1846                oct-17  \n",
       "1845                oct-17  \n",
       "1203                oct-17  \n",
       "509                 oct-17  \n",
       "\n",
       "[1933 rows x 9 columns]"
      ]
     },
     "execution_count": 31,
     "metadata": {},
     "output_type": "execute_result"
    }
   ],
   "source": [
    "dataset"
   ]
  },
  {
   "cell_type": "code",
   "execution_count": 32,
   "metadata": {},
   "outputs": [
    {
     "name": "stdout",
     "output_type": "stream",
     "text": [
      "<class 'pandas.core.frame.DataFrame'>\n",
      "Int64Index: 1933 entries, 966 to 509\n",
      "Data columns (total 9 columns):\n",
      "dni_alumno               1933 non-null int64\n",
      "apellido_alumno          1933 non-null object\n",
      "nombre_alumno            1933 non-null object\n",
      "provincia_examen         1933 non-null object\n",
      "id_provincia             1933 non-null int64\n",
      "localidad                1933 non-null object\n",
      "sede_nombre              1933 non-null object\n",
      "sede_direccion           1933 non-null object\n",
      "llamado_certificacion    1933 non-null object\n",
      "dtypes: int64(2), object(7)\n",
      "memory usage: 151.0+ KB\n"
     ]
    }
   ],
   "source": [
    "dataset.info()"
   ]
  },
  {
   "cell_type": "code",
   "execution_count": 40,
   "metadata": {},
   "outputs": [
    {
     "data": {
      "text/plain": [
       "dni_alumno               0\n",
       "apellido_alumno          0\n",
       "nombre_alumno            0\n",
       "provincia_examen         0\n",
       "id_provincia             0\n",
       "localidad                0\n",
       "sede_nombre              0\n",
       "sede_direccion           0\n",
       "llamado_certificacion    0\n",
       "dtype: int64"
      ]
     },
     "execution_count": 40,
     "metadata": {},
     "output_type": "execute_result"
    }
   ],
   "source": [
    "dataset.isna().sum()"
   ]
  },
  {
   "cell_type": "code",
   "execution_count": 33,
   "metadata": {},
   "outputs": [
    {
     "data": {
      "text/plain": [
       "<matplotlib.axes._subplots.AxesSubplot at 0x1a1ab2e250>"
      ]
     },
     "execution_count": 33,
     "metadata": {},
     "output_type": "execute_result"
    },
    {
     "data": {
      "image/png": "[encoded data removed]",
      "text/plain": [
       "<Figure size 864x576 with 1 Axes>"
      ]
     },
     "metadata": {
      "needs_background": "light"
     },
     "output_type": "display_data"
    }
   ],
   "source": [
    "filter_df = ['provincia_examen', 'localidad', 'sede_nombre', 'llamado_certificacion']\n",
    "df_filtered = dataset[filter_df]\n",
    "df_filtered\n",
    "sns.countplot(df_filtered.llamado_certificacion)"
   ]
  },
  {
   "cell_type": "code",
   "execution_count": 36,
   "metadata": {},
   "outputs": [
    {
     "data": {
      "text/plain": [
       "<matplotlib.axes._subplots.AxesSubplot at 0x1a1a9f2a50>"
      ]
     },
     "execution_count": 36,
     "metadata": {},
     "output_type": "execute_result"
    },
    {
     "data": {
      "image/png": "[encoded data removed]",
      "text/plain": [
       "<Figure size 864x576 with 1 Axes>"
      ]
     },
     "metadata": {
      "needs_background": "light"
     },
     "output_type": "display_data"
    }
   ],
   "source": [
    "sns.countplot(df_filtered.provincia_examen)"
   ]
  },
  {
   "cell_type": "code",
   "execution_count": null,
   "metadata": {},
   "outputs": [],
   "source": []
  }
 ],
 "metadata": {
  "kernelspec": {
   "display_name": "Python 3",
   "language": "python",
   "name": "python3"
  },
  "language_info": {
   "codemirror_mode": {
    "name": "ipython",
    "version": 3
   },
   "file_extension": ".py",
   "mimetype": "text/x-python",
   "name": "python",
   "nbconvert_exporter": "python",
   "pygments_lexer": "ipython3",
   "version": "3.7.4"
  }
 },
 "nbformat": 4,
 "nbformat_minor": 4
}
