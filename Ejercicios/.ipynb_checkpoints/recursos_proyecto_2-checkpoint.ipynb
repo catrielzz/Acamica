{
 "cells": [
  {
   "cell_type": "markdown",
   "metadata": {},
   "source": [
    "# Proyecto: Engrasandonos las manos con datos"
   ]
  },
  {
   "cell_type": "markdown",
   "metadata": {},
   "source": [
    "¡Bienvenidos al segundo proyecto de la carrera de Data Science de Acamica! \n",
    "\n",
    "En este proyecto vamos a seguir trabajando con el dataset de propiedades en venta publicadas en el portal [Properati](www.properati.com.ar). El objetivo en este caso es continuar con la limpieza de datos y avanzar en remover valores faltantes y remover outliers. Por otro lado, vamos a agregar nuevos atributos basados en los datos."
   ]
  },
  {
   "cell_type": "markdown",
   "metadata": {},
   "source": [
    "## Dataset: Propiedades en venta en Ciudad de Buenos Aires."
   ]
  },
  {
   "cell_type": "markdown",
   "metadata": {},
   "source": [
    "En este proyecto, trabajaremos con una muestra del conjunto de datos de propiedades en venta mencionado. En este dataset, cada fila es una propiedad en venta. A continuación vamos a describir los atributos que consideramos en esta muestra:\n",
    "\n",
    "* id: id de la propiedad\n",
    "* created_on: fecha en la que la propiedad ingresó al sitio\n",
    "* operation: alquiler (rent) o venta (sell)\n",
    "* property_type: tipo de propiedad (casa, departamento, ph, etcétera)\n",
    "* place_with_parent_names: nombre del lugar donde se encuentra la propiedad según el publicador\n",
    "* lat-lon: coordenadas concatenadas\n",
    "* lat: latitud\n",
    "* lon: longitud\n",
    "* price: precio en la moneda especificada en currency\n",
    "* currency: divisa en la que está expresada la publicación\n",
    "* price_aprox_usd: precio aproximado en dólares estadounidenses\n",
    "* surface_total_in_m2: superficie total (en metros cuadrados)\n",
    "* surface_covered_in_m2: superficie cubierta (en metros cuadrados)\n",
    "* price_usd_per_m2: precio por metro cuadrado en dólares (precio dólares / superficie)\n",
    "* floor: número de piso (si corresponde)\n",
    "* rooms: cantidad de ambientes\n",
    "* expenses: expensas (si corresponde)\n",
    "* barrio: barrio según cartografía oficial\n",
    "* properati_url: url de la publicación en Properati\n",
    "\n",
    "A continuación vamos a levantar el dataset para comenzar el procesamiento. Cabe destacar que en este caso ya fueron hechas las correcciones de coordenadas y superficies incorrectas que vimos en el proyecto anterior"
   ]
  },
  {
   "cell_type": "code",
   "execution_count": 1,
   "metadata": {},
   "outputs": [],
   "source": [
    "import matplotlib.pyplot as plt\n",
    "%matplotlib inline\n",
    "import seaborn as sns\n",
    "import pandas as pd\n",
    "import numpy as np\n",
    "\n",
    "MAX_ROWS = 10\n",
    "pd.set_option('display.max_rows', MAX_ROWS)\n",
    "pd.set_option('display.max_columns', 200)\n",
    " \n",
    "sns.set_style(\"whitegrid\")\n",
    "sns.set_context(\"paper\")\n",
    "\n",
    "plt.rcParams['figure.figsize'] = (12,5)"
   ]
  },
  {
   "cell_type": "code",
   "execution_count": 2,
   "metadata": {},
   "outputs": [],
   "source": [
    "path_dataset = '../csv/datos_properati_limpios.csv'\n",
    "df = pd.read_csv(path_dataset, parse_dates=['created_on'])"
   ]
  },
  {
   "cell_type": "code",
   "execution_count": 3,
   "metadata": {},
   "outputs": [
    {
     "data": {
      "text/plain": [
       "Index(['created_on', 'property_type', 'place_name', 'place_with_parent_names',\n",
       "       'lat', 'lon', 'price_aprox_usd', 'surface_total_in_m2',\n",
       "       'surface_covered_in_m2', 'price_usd_per_m2', 'floor', 'rooms',\n",
       "       'expenses', 'properati_url', 'barrio'],\n",
       "      dtype='object')"
      ]
     },
     "execution_count": 3,
     "metadata": {},
     "output_type": "execute_result"
    }
   ],
   "source": [
    "df.columns"
   ]
  },
  {
   "cell_type": "code",
   "execution_count": 4,
   "metadata": {},
   "outputs": [
    {
     "name": "stdout",
     "output_type": "stream",
     "text": [
      "El dataset que vamos a trabajar aquí tiene 13756 observaciones\n"
     ]
    }
   ],
   "source": [
    "print(\"El dataset que vamos a trabajar aquí tiene {} observaciones\".format(df.shape[0]))"
   ]
  },
  {
   "cell_type": "markdown",
   "metadata": {},
   "source": [
    "Dado que ya lo trabajamos en el proyecto anterior, en este caso ya hemos filtrado observaciones para trabajar solo con casas (house), departamentos (apartment) y PH (PH)."
   ]
  },
  {
   "cell_type": "markdown",
   "metadata": {},
   "source": [
    "### Outliers"
   ]
  },
  {
   "cell_type": "markdown",
   "metadata": {},
   "source": [
    "Analicemos en primer lugar los valores extremos que puede haber en los precios y en las superficies. Esto nos va a ser útil para luego imputar usando medidas de tendencia central, como el promedio. \n",
    "Recordemos que las medidas de tendencia central pueden ser sensibles a outliers, por lo que la imputación de valores faltantes puede verse afectada\n",
    "\n",
    "Una posible pregunta que surge es si conviene primero imputar faltantes y luego remover outliers, o lo contrario.  Cuando se imputa se modifica la distribución de los datos. Por eso, las cotas que utilicemos para definir los outliers se verán afectadas por este cambio y modificarán los resultados finales. Entonces comenzaremos quitando outliers.\n",
    "\n",
    "Vamos a trabajar con `price_usd_per_m2`. Precios altos pueden corresponderse con grandes superficies, por lo que conviene analizar juntos ambos atributos. Veamos la distribución de los valores y un boxplot para comenzar a identificar los outliers."
   ]
  },
  {
   "cell_type": "markdown",
   "metadata": {},
   "source": [
    "**1) Utilizá** seaborn para hacer un `distplot` del precio por metro cuadrado. \n",
    "\n",
    "Deberás hacer un `drop` de los valores `NaN` de esta columna antes de graficar."
   ]
  },
  {
   "cell_type": "code",
   "execution_count": 6,
   "metadata": {},
   "outputs": [
    {
     "data": {
      "text/plain": [
       "<matplotlib.axes._subplots.AxesSubplot at 0x1a18d97710>"
      ]
     },
     "execution_count": 6,
     "metadata": {},
     "output_type": "execute_result"
    },
    {
     "data": {
      "image/png": "[encoded data removed]",
      "text/plain": [
       "<Figure size 432x288 with 1 Axes>"
      ]
     },
     "metadata": {
      "needs_background": "light"
     },
     "output_type": "display_data"
    }
   ],
   "source": [
    "# Mostrá la figura en esta celda\n",
    "df.dropna(subset=[\"price_usd_per_m2\"],axis =0, inplace=True)\n",
    "sns.distplot(df.price_usd_per_m2)"
   ]
  },
  {
   "cell_type": "markdown",
   "metadata": {},
   "source": [
    "**2) Hacé** un `boxplot` de la columna `price_usd_per_m2`"
   ]
  },
  {
   "cell_type": "code",
   "execution_count": 5,
   "metadata": {},
   "outputs": [
    {
     "data": {
      "text/plain": [
       "<matplotlib.axes._subplots.AxesSubplot at 0x1a189db510>"
      ]
     },
     "execution_count": 5,
     "metadata": {},
     "output_type": "execute_result"
    },
    {
     "data": {
      "image/png": "[encoded data removed]",
      "text/plain": [
       "<Figure size 432x288 with 1 Axes>"
      ]
     },
     "metadata": {
      "needs_background": "light"
     },
     "output_type": "display_data"
    }
   ],
   "source": [
    "# El boxplot debe estar en esta celda\n",
    "sns.boxplot(df.price_usd_per_m2)"
   ]
  },
  {
   "cell_type": "markdown",
   "metadata": {},
   "source": [
    "¿A qué conclusión podemos llegar observando estas figuras?\n",
    "**Responder**"
   ]
  },
  {
   "cell_type": "markdown",
   "metadata": {},
   "source": [
    "Para confirmar la presencia de outliers vamos a utilizar los percentiles.\n",
    "\n",
    "**3) Describir** la columna mostrando sus estadísticos"
   ]
  },
  {
   "cell_type": "code",
   "execution_count": 7,
   "metadata": {},
   "outputs": [
    {
     "data": {
      "text/plain": [
       "count     12973.000000\n",
       "mean       2695.065767\n",
       "std        1773.086831\n",
       "min           0.958333\n",
       "25%        1959.183673\n",
       "50%        2510.204082\n",
       "75%        3125.000000\n",
       "max      142450.141026\n",
       "Name: price_usd_per_m2, dtype: float64"
      ]
     },
     "execution_count": 7,
     "metadata": {},
     "output_type": "execute_result"
    }
   ],
   "source": [
    "# Describir la columna en esta celda\n",
    "df.price_usd_per_m2.describe()"
   ]
  },
  {
   "cell_type": "markdown",
   "metadata": {},
   "source": [
    "Estamos ante la presencia de valores extremos en ambas puntas de la distribución. Vamos a aplicar la técnica del rango intercuartílico para limpiarlos.\n",
    "\n",
    "Para obtener el rango tenemos que calcular la diferencia entre el tercer y el primer percentil. Luego en base a esto calcularemos los valores mínimos y máximos para definir qué observaciones serán descartadas.\n",
    "\n",
    "**4) Aplicar la técnica del rango intercuartílico** para limpiar el precio por metro cuadrado. El resultado deberá ser un `dataframe` llamado `df_filtered` sin los outliers."
   ]
  },
  {
   "cell_type": "code",
   "execution_count": 17,
   "metadata": {},
   "outputs": [
    {
     "name": "stdout",
     "output_type": "stream",
     "text": [
      "Rango intercuantílico:       created_on property_type        place_name  \\\n",
      "0     2017-09-22         house     Palermo Viejo   \n",
      "9     2017-08-31     apartment           Palermo   \n",
      "10    2017-08-31     apartment           Palermo   \n",
      "14    2017-09-01         house     Palermo Chico   \n",
      "21    2017-09-02     apartment       Las Cañitas   \n",
      "...          ...           ...               ...   \n",
      "12532 2017-10-20     apartment  Parque Patricios   \n",
      "13011 2018-01-19            PH             Boedo   \n",
      "13102 2017-10-17     apartment         Mataderos   \n",
      "13357 2017-12-13            PH  Villa Pueyrredón   \n",
      "13403 2018-01-20     apartment  Villa Pueyrredón   \n",
      "\n",
      "                                 place_with_parent_names        lat  \\\n",
      "0      |Argentina|Capital Federal|Palermo|Palermo Viejo| -34.588953   \n",
      "9                    |Argentina|Capital Federal|Palermo| -34.572222   \n",
      "10                   |Argentina|Capital Federal|Palermo| -34.568472   \n",
      "14     |Argentina|Capital Federal|Palermo|Palermo Chico| -34.578270   \n",
      "21               |Argentina|Capital Federal|Las Cañitas| -34.570870   \n",
      "...                                                  ...        ...   \n",
      "12532       |Argentina|Capital Federal|Parque Patricios| -34.643557   \n",
      "13011                  |Argentina|Capital Federal|Boedo| -34.627679   \n",
      "13102              |Argentina|Capital Federal|Mataderos| -34.655509   \n",
      "13357       |Argentina|Capital Federal|Villa Pueyrredón| -34.585335   \n",
      "13403       |Argentina|Capital Federal|Villa Pueyrredón| -34.577607   \n",
      "\n",
      "             lon  price_aprox_usd  surface_total_in_m2  surface_covered_in_m2  \\\n",
      "0     -58.429882       2000000.00                312.0                    NaN   \n",
      "9     -58.421116       2600000.00                400.0                  400.0   \n",
      "10    -58.431249        520000.00                 97.0                   97.0   \n",
      "14    -58.399321       1750000.00                300.0                    NaN   \n",
      "21    -58.433145        440000.00                 80.0                   76.0   \n",
      "...          ...              ...                  ...                    ...   \n",
      "12532 -58.417510        280000.00                 44.0                   44.0   \n",
      "13011 -58.402508         12776.94                210.0                  120.0   \n",
      "13102 -58.496535         17336.76                310.0                  310.0   \n",
      "13357 -58.499302         10732.62                120.0                  110.0   \n",
      "13403 -58.507558        124470.00                707.0                  307.0   \n",
      "\n",
      "       price_usd_per_m2  floor  rooms  expenses  \\\n",
      "0           6410.256410    NaN    NaN       NaN   \n",
      "9           6500.000000    NaN    5.0   20000.0   \n",
      "10          5360.824742    NaN    3.0   10000.0   \n",
      "14          5833.333333    NaN    5.0       NaN   \n",
      "21          5500.000000    NaN    3.0       NaN   \n",
      "...                 ...    ...    ...       ...   \n",
      "12532       6363.636364    NaN    2.0       NaN   \n",
      "13011         60.842571    NaN    5.0       NaN   \n",
      "13102         55.925032    NaN    NaN       NaN   \n",
      "13357         89.438500    NaN    NaN       NaN   \n",
      "13403        176.053748    NaN    2.0       NaN   \n",
      "\n",
      "                                           properati_url            barrio  \n",
      "0      https://www.properati.com.ar/2os_venta_casa_pa...           PALERMO  \n",
      "9      https://www.properati.com.ar/1e3ol_venta_depar...           PALERMO  \n",
      "10     https://www.properati.com.ar/1e3oo_venta_depar...           PALERMO  \n",
      "14     https://www.properati.com.ar/1e6c0_venta_casa_...           PALERMO  \n",
      "21     https://www.properati.com.ar/1e9gr_venta_depar...           PALERMO  \n",
      "...                                                  ...               ...  \n",
      "12532  https://www.properati.com.ar/1ha6l_venta_depar...     NUEVA POMPEYA  \n",
      "13011  https://www.properati.com.ar/1jt8t_venta_ph_bo...     SAN CRISTOBAL  \n",
      "13102  https://www.properati.com.ar/1gw6j_venta_depar...         MATADEROS  \n",
      "13357  https://www.properati.com.ar/1ixzy_venta_ph_vi...  VILLA PUEYRREDON  \n",
      "13403  https://www.properati.com.ar/1ju4d_venta_depar...  VILLA PUEYRREDON  \n",
      "\n",
      "[685 rows x 15 columns]\n"
     ]
    }
   ],
   "source": [
    "# Realizar el filtrado intercuartílico en esta celda\n",
    "# sacar los minimos\n",
    "q1 = df['price_usd_per_m2'].quantile(0.25)\n",
    "q3 = df['price_usd_per_m2'].quantile(0.75)\n",
    "iqr = q3 - q1\n",
    "minimo = q1 - (1.5 * iqr)\n",
    "maximo = q3 + (1.5 * iqr)\n",
    "mascara = np.logical_and(df['price_usd_per_m2'].values < maximo, df['price_usd_per_m2'].values > minimo)\n",
    "df_filtered = df[mascara]\n",
    "print('Rango intercuantílico:', df_filtered)"
   ]
  },
  {
   "cell_type": "markdown",
   "metadata": {},
   "source": [
    "**5)** Volver a **plotear** con `distplot` y `boxplot` los precios sin los outliers y observá las diferencias con los anteriores ploteo."
   ]
  },
  {
   "cell_type": "code",
   "execution_count": 10,
   "metadata": {},
   "outputs": [
    {
     "data": {
      "text/plain": [
       "<matplotlib.axes._subplots.AxesSubplot at 0x1a1c913150>"
      ]
     },
     "execution_count": 10,
     "metadata": {},
     "output_type": "execute_result"
    },
    {
     "data": {
      "image/png": "[encoded data removed]",
      "text/plain": [
       "<Figure size 432x288 with 1 Axes>"
      ]
     },
     "metadata": {
      "needs_background": "light"
     },
     "output_type": "display_data"
    }
   ],
   "source": [
    "# Hacé el distplot \n",
    "sns.distplot(df_filtered.price_usd_per_m2)\n",
    "sns.distplot(df.price_usd_per_m2)"
   ]
  },
  {
   "cell_type": "code",
   "execution_count": 15,
   "metadata": {},
   "outputs": [
    {
     "data": {
      "text/plain": [
       "<matplotlib.axes._subplots.AxesSubplot at 0x1a1cb96810>"
      ]
     },
     "execution_count": 15,
     "metadata": {},
     "output_type": "execute_result"
    },
    {
     "data": {
      "image/png": "[encoded data removed]",
      "text/plain": [
       "<Figure size 432x288 with 1 Axes>"
      ]
     },
     "metadata": {
      "needs_background": "light"
     },
     "output_type": "display_data"
    }
   ],
   "source": [
    "# Hacé el boxplot en esta celda\n",
    "sns.boxplot(df_filtered.price_usd_per_m2)\n"
   ]
  },
  {
   "cell_type": "markdown",
   "metadata": {},
   "source": [
    "**6) Describir** nuevamente la columna mostrando sus estadísticos."
   ]
  },
  {
   "cell_type": "code",
   "execution_count": 12,
   "metadata": {},
   "outputs": [
    {
     "data": {
      "text/plain": [
       "count       685.000000\n",
       "mean       6102.985619\n",
       "std        5900.870177\n",
       "min           0.958333\n",
       "25%        5135.135135\n",
       "50%        5670.103093\n",
       "75%        6500.000000\n",
       "max      142450.141026\n",
       "Name: price_usd_per_m2, dtype: float64"
      ]
     },
     "execution_count": 12,
     "metadata": {},
     "output_type": "execute_result"
    }
   ],
   "source": [
    "df_filtered['price_usd_per_m2'].describe()"
   ]
  },
  {
   "cell_type": "markdown",
   "metadata": {},
   "source": [
    "Vamos a seguir trabajando con el `dataframe` filtrado"
   ]
  },
  {
   "cell_type": "code",
   "execution_count": 13,
   "metadata": {},
   "outputs": [],
   "source": [
    "df = df_filtered"
   ]
  },
  {
   "cell_type": "markdown",
   "metadata": {},
   "source": [
    "### Valores Faltantes"
   ]
  },
  {
   "cell_type": "markdown",
   "metadata": {},
   "source": [
    "A diferencia del proyecto pasado, vamos a intentar imputar los valores faltantes para los atributos que consideramos importantes para el mercado inmobiliario. \n",
    "\n",
    "Estos atributos son los que informan **superficie (total o cubierta), cantidad de ambientes, precio y precio por metro cuadrado**. \n",
    "\n",
    "Veamos en primer lugar cuántos valores faltantes tiene cada atributo. Nos interesa verlo como un porcentaje en relación a la cantidad de observaciones. Si un atributo tiene un elevado porcentaje de faltantes, puede ser mejor no considerarlo en el análisis."
   ]
  },
  {
   "cell_type": "markdown",
   "metadata": {},
   "source": [
    "**7) Mostrar** cual es el porcentaje de valores faltantes para cada columna."
   ]
  },
  {
   "cell_type": "code",
   "execution_count": 14,
   "metadata": {},
   "outputs": [
    {
     "data": {
      "text/plain": [
       "created_on                  0.000000\n",
       "property_type               0.000000\n",
       "place_name                  0.000000\n",
       "place_with_parent_names     0.000000\n",
       "lat                         0.000000\n",
       "                             ...    \n",
       "floor                      93.138686\n",
       "rooms                      11.678832\n",
       "expenses                   76.788321\n",
       "properati_url               0.000000\n",
       "barrio                      0.000000\n",
       "Length: 15, dtype: float64"
      ]
     },
     "execution_count": 14,
     "metadata": {},
     "output_type": "execute_result"
    }
   ],
   "source": [
    "# Mostrá los valores faltantes en esta celda\n",
    "df.isnull().sum() * 100 / len(df)"
   ]
  },
  {
   "cell_type": "markdown",
   "metadata": {},
   "source": [
    "Podemos ver en los resultados que los atributos `floor` y `expenses` tienen un elevado porcentaje de faltantes.  Una opción sería descartar estas columnas en el análisis. \n",
    "Si elimináramos las observaciones (filas) asociadas a estos, perderíamos el 84.79% de los datos, mermando demasiado el conjunto de datos.\n",
    "\n",
    "Otra opción sería por ejemplo considerar categorías como faltantes o no faltantes o en todo caso analizar si hay algún patrón para poder evitar quitarlos. \n",
    "\n",
    "Para avanzar con el proyecto, vamos a quitar esos atributos."
   ]
  },
  {
   "cell_type": "code",
   "execution_count": 15,
   "metadata": {},
   "outputs": [],
   "source": [
    "df = df.drop(['floor', 'expenses'], axis = 1)"
   ]
  },
  {
   "cell_type": "markdown",
   "metadata": {},
   "source": [
    "Analicemos estrategias para imputar los valores faltantes para los atributos `rooms`, `surface_total_in_m2` y `surface_covered_in_m2`.\n",
    "\n",
    "Como vimos en las actividades, entre las opciones que tenemos está la posibilidad de imputar por algún medida de tendencia central, como el caso de la media o la mediana. Vamos a avanzar en esa dirección."
   ]
  },
  {
   "cell_type": "markdown",
   "metadata": {},
   "source": [
    "**8) Imputar las observaciones faltantes** de la columna `surface_total_in_m2 ` y `surface_covered_in_m2` usando la **media**. \n",
    "\n",
    "`Scikit-learn` nos provee la clase `Imputer` que implementa las formas más comunes de imputación."
   ]
  },
  {
   "cell_type": "code",
   "execution_count": null,
   "metadata": {},
   "outputs": [],
   "source": [
    "# Imputar los valores en esta celda\n"
   ]
  },
  {
   "cell_type": "markdown",
   "metadata": {},
   "source": [
    "Una de las limitaciones que presenta este tipo de imputación es que provoca estimaciones sesgadas de la varianza. Esto impacta en los errores estandar y, por ende, en los tests estadístcos.\n",
    "\n",
    "Este tipo de técnicas es útil cuando los valores son completamente al azar."
   ]
  },
  {
   "cell_type": "markdown",
   "metadata": {},
   "source": [
    "**9) Imputar las observaciones faltantes** de la columna `rooms` usando la **mediana**."
   ]
  },
  {
   "cell_type": "code",
   "execution_count": null,
   "metadata": {},
   "outputs": [],
   "source": [
    "# Imputar con la mediana en esta celda"
   ]
  },
  {
   "cell_type": "markdown",
   "metadata": {},
   "source": [
    "### Variables binarias"
   ]
  },
  {
   "cell_type": "markdown",
   "metadata": {},
   "source": [
    "#### Generar variables binarias para el atributo `property_type`.\n",
    "\n",
    "Hay que tener en cuenta en este caso que el atributo es categórico.\n",
    "\n",
    "Para hacerlo usando scikit-learn, por como vienen dados los valores (en formato string), primero conviene convertirlos en numéricos. Para esto usamos `LabelEncoder`.\n",
    "\n",
    "**10) Convertí** las variables de `property_type` utilizando `LabelEncoder`"
   ]
  },
  {
   "cell_type": "code",
   "execution_count": null,
   "metadata": {},
   "outputs": [],
   "source": [
    "# Utilizá LabelEncoder en esta celda"
   ]
  },
  {
   "cell_type": "markdown",
   "metadata": {},
   "source": [
    "**11) Mostrar** las clases del `LabelEncoder`:"
   ]
  },
  {
   "cell_type": "code",
   "execution_count": null,
   "metadata": {},
   "outputs": [],
   "source": [
    "# Mostrar la propiedad classes_ del LabelEncoder que creaste"
   ]
  },
  {
   "cell_type": "markdown",
   "metadata": {},
   "source": [
    "Luego con `OneHotEncoder` obtenemos las categorías expresadas como **variables binarias**. \n",
    "\n",
    "**12) Aplicar** `OneHotEncoder` sobre las variables categóricas para crear un dataframe `categoricals_df`"
   ]
  },
  {
   "cell_type": "code",
   "execution_count": null,
   "metadata": {},
   "outputs": [],
   "source": [
    "# Utilizá OneHotEncoder en esta celda "
   ]
  },
  {
   "cell_type": "markdown",
   "metadata": {},
   "source": [
    "Unimos el nuevo dataframe `categorical_df` con el `dataframe` original `df`. Para esto, necesitamos que tengan el mismo índice."
   ]
  },
  {
   "cell_type": "code",
   "execution_count": null,
   "metadata": {},
   "outputs": [],
   "source": [
    "categoricals_df = categoricals_df.set_index(df.index)\n",
    "df = pd.concat([df, categoricals_df], axis=1)\n",
    "df.head()"
   ]
  },
  {
   "cell_type": "markdown",
   "metadata": {},
   "source": [
    "### Variables calculadas"
   ]
  },
  {
   "cell_type": "markdown",
   "metadata": {},
   "source": [
    "__Calcular el precio por metro cuadrado (precio/superficie total). Llamar a este atributo `price_m2`.__\n",
    "\n",
    "Hay que tener cuidado en esta parte respecto de dividir por cero. Para ello, armemos una función de división que contemple eso.\n",
    "\n",
    "El hecho de crear una columna nueva y no imputar los faltantes es simplemente una decisión. Cuando veamos modelos predictivos, vamos a poder cuantificar el costo de las decisiones que tomemos en términos de performance del modelo."
   ]
  },
  {
   "cell_type": "code",
   "execution_count": null,
   "metadata": {},
   "outputs": [],
   "source": [
    "def custom_division(x, y):\n",
    "    if y > 0:\n",
    "        res = x / y\n",
    "    else:\n",
    "        res = 0\n",
    "    return res\n",
    "\n",
    "df['price_m2'] = df.apply(lambda x: custom_division(x['price_aprox_usd'], x['surface_total_in_m2']), axis = 1)\n",
    "df.drop(['price_usd_per_m2'], axis=1, inplace=True)"
   ]
  },
  {
   "cell_type": "markdown",
   "metadata": {},
   "source": [
    "__Verificar que ya no quedan atributos con valores faltantes__"
   ]
  },
  {
   "cell_type": "code",
   "execution_count": null,
   "metadata": {},
   "outputs": [],
   "source": [
    "# Creamos un dataset con los porcentajes de nulos\n",
    "df_faltantes = pd.DataFrame(df.isnull().sum() / df.shape[0], columns=['Porcentaje nulos'])\n",
    "# Solo mostramos los que tengan valores nulos. Si el porcentaje es 0 no se muestra\n",
    "df_faltantes.loc[~(df_faltantes==0).all(axis=1)]"
   ]
  },
  {
   "cell_type": "code",
   "execution_count": null,
   "metadata": {},
   "outputs": [],
   "source": [
    "print(\"El dataset final luego del procesamiento tiene {} observaciones\".format(df.shape[0]))"
   ]
  },
  {
   "cell_type": "markdown",
   "metadata": {},
   "source": [
    "De este modo, hemos limpiado valores extremos e imputado valores nulos. El costo de esto fue la pérdida de 685 observaciones, 5% de la cantidad original de filas."
   ]
  }
 ],
 "metadata": {
  "kernelspec": {
   "display_name": "Python 3",
   "language": "python",
   "name": "python3"
  },
  "language_info": {
   "codemirror_mode": {
    "name": "ipython",
    "version": 3
   },
   "file_extension": ".py",
   "mimetype": "text/x-python",
   "name": "python",
   "nbconvert_exporter": "python",
   "pygments_lexer": "ipython3",
   "version": "3.7.4"
  }
 },
 "nbformat": 4,
 "nbformat_minor": 4
}
