{
 "cells": [
  {
   "cell_type": "markdown",
   "metadata": {},
   "source": [
    "# Proyecto 3: Predicción de precios de propiedades"
   ]
  },
  {
   "cell_type": "markdown",
   "metadata": {},
   "source": [
    "¡Bienvenidos al tercer proyecto de la carrera de Data Science de Acamica! \n",
    "\n",
    "En este proyecto vamos a seguir trabajando con el dataset de propiedades en venta publicadas en el portal [Properati](www.properati.com.ar). El objetivo en este caso armar nuestros primeros modelos para predecir el precio de las propiedades en dólares.\n",
    "\n",
    "Las columnas que se agregan son:\n",
    "\n",
    "* `barrios_match`: si coincide el barrio publicado con el geográfico vale 1, si no 0.\n",
    "\n",
    "* `PH`, `apartment`, `house`: variables binarias que indican el tipo de propiedad.\n",
    "\n",
    "* dummies de barrios: variables binarias con 1 o 0 según el barrio.\n",
    "\n",
    "La métrica que vamos a usar para medir es RMSE (raíz del error cuadrático medio), cuya fórmula es:\n",
    "\n",
    "$$RMSE = \\sqrt{\\frac{\\sum_{t=1}^n (\\hat y_t - y_t)^2}{n}}$$"
   ]
  },
  {
   "cell_type": "code",
   "execution_count": 1,
   "metadata": {},
   "outputs": [],
   "source": [
    "import pandas as pd\n",
    "pd.set_option('display.float_format', lambda x: '%.3f' % x)\n",
    "path_dataset = '../csv/datos_properati_limpios_model.csv'\n",
    "df = pd.read_csv(path_dataset)"
   ]
  },
  {
   "cell_type": "code",
   "execution_count": 2,
   "metadata": {},
   "outputs": [
    {
     "name": "stdout",
     "output_type": "stream",
     "text": [
      "El dataset que vamos a trabajar aquí tiene 6376 observaciones\n"
     ]
    }
   ],
   "source": [
    "print(\"El dataset que vamos a trabajar aquí tiene {} observaciones\".format(df.shape[0]))"
   ]
  },
  {
   "cell_type": "markdown",
   "metadata": {},
   "source": [
    "El objetivo de este proyecto es poder trabajar en el ajuste de modelos y su posterior evaluación."
   ]
  },
  {
   "cell_type": "markdown",
   "metadata": {},
   "source": [
    "Para empezar vamos a separar el `dataset` en un conjunto de entrenamiento (80%) y un conjunto de test (20%). \n",
    "\n",
    "**Separá el dataset** en `X_train`, `X_test`, `y_train` e `y_test` con el tamaño correspondiente"
   ]
  },
  {
   "cell_type": "code",
   "execution_count": 3,
   "metadata": {},
   "outputs": [],
   "source": [
    "X = df.drop(['price_aprox_usd'], axis=1)\n",
    "y = df['price_aprox_usd']\n",
    "\n",
    "# Realizá la separación a continuación en esta celda\n",
    "from sklearn.model_selection import train_test_split\n",
    "\n",
    "X_train, X_test, y_train, y_test = train_test_split(X, y, test_size=0.2)"
   ]
  },
  {
   "cell_type": "code",
   "execution_count": 4,
   "metadata": {},
   "outputs": [
    {
     "data": {
      "text/plain": [
       "(5100, 58)"
      ]
     },
     "execution_count": 4,
     "metadata": {},
     "output_type": "execute_result"
    }
   ],
   "source": [
    "X_train.shape"
   ]
  },
  {
   "cell_type": "markdown",
   "metadata": {},
   "source": [
    "## Árboles de decisión\n",
    "\n",
    "Lo primero que vamos a hacer es entrenar un árbol de decisión y usar de métrica al `RMSE`. \n",
    "\n",
    "Para poder obtener el **RMSE** vamos a medir el `mean_squared_error` y obtener su raíz cuadrada. \n",
    "\n",
    "**Importá** `DecisionTreeRegressor` desde `sklearn.tree`.  \n",
    "\n",
    "A continuación **entrená** el regresor con el conjunto de training\n"
   ]
  },
  {
   "cell_type": "code",
   "execution_count": 5,
   "metadata": {},
   "outputs": [
    {
     "data": {
      "text/plain": [
       "DecisionTreeRegressor(criterion='mse', max_depth=None, max_features=None,\n",
       "                      max_leaf_nodes=None, min_impurity_decrease=0.0,\n",
       "                      min_impurity_split=None, min_samples_leaf=1,\n",
       "                      min_samples_split=2, min_weight_fraction_leaf=0.0,\n",
       "                      presort=False, random_state=None, splitter='best')"
      ]
     },
     "execution_count": 5,
     "metadata": {},
     "output_type": "execute_result"
    }
   ],
   "source": [
    "# En esta celda cargá el regresor y realizá el entrenamiento\n",
    "from sklearn.tree import DecisionTreeRegressor \n",
    "tree_reg = DecisionTreeRegressor()\n",
    "tree_reg.fit(X_train, y_train)"
   ]
  },
  {
   "cell_type": "markdown",
   "metadata": {},
   "source": [
    "Con el modelo entrenado **realizá la predicción** sobre el conjunto de test `X_test` y guardá el resultado en una variable `y_pred`."
   ]
  },
  {
   "cell_type": "code",
   "execution_count": 6,
   "metadata": {},
   "outputs": [
    {
     "data": {
      "text/plain": [
       "(1276,)"
      ]
     },
     "execution_count": 6,
     "metadata": {},
     "output_type": "execute_result"
    }
   ],
   "source": [
    "# Acá realizá la predicción\n",
    "y_pred = tree_reg.predict(X_test)\n",
    "y_test.shape"
   ]
  },
  {
   "cell_type": "markdown",
   "metadata": {},
   "source": [
    "**Calculá el rmse** sacando la raíz cuadrada de `mean_squared_error` entre `y_test` e `y_pred` y **mostrá** el resultado"
   ]
  },
  {
   "cell_type": "code",
   "execution_count": 7,
   "metadata": {},
   "outputs": [
    {
     "name": "stdout",
     "output_type": "stream",
     "text": [
      "RMSE Entrenamiento:  24793.784244117607\n"
     ]
    }
   ],
   "source": [
    "# En esta celda calculá el rmse\n",
    "import numpy as np\n",
    "from sklearn.metrics import mean_squared_error\n",
    "\n",
    "tree_mse = mean_squared_error(y_test, y_pred)\n",
    "print(\"RMSE Entrenamiento: \", np.sqrt(tree_mse))"
   ]
  },
  {
   "cell_type": "code",
   "execution_count": 8,
   "metadata": {},
   "outputs": [
    {
     "data": {
      "text/plain": [
       "numpy.ndarray"
      ]
     },
     "execution_count": 8,
     "metadata": {},
     "output_type": "execute_result"
    }
   ],
   "source": [
    "type(y_test.values)"
   ]
  },
  {
   "cell_type": "code",
   "execution_count": 9,
   "metadata": {},
   "outputs": [
    {
     "data": {
      "text/plain": [
       "array([160000.,  65000.,  75000., ..., 163000.,  79900.,  79000.])"
      ]
     },
     "execution_count": 9,
     "metadata": {},
     "output_type": "execute_result"
    }
   ],
   "source": [
    "y_pred"
   ]
  },
  {
   "cell_type": "code",
   "execution_count": 10,
   "metadata": {},
   "outputs": [
    {
     "data": {
      "text/plain": [
       "<Figure size 640x480 with 1 Axes>"
      ]
     },
     "metadata": {},
     "output_type": "display_data"
    }
   ],
   "source": [
    "import matplotlib.pyplot as plt\n",
    "plt.figure()\n",
    "plt.plot(y_test.values[0:20],'o')\n",
    "plt.plot(y_pred[0:20],'o')\n",
    "plt.ylim(0,180000)\n",
    "plt.show()"
   ]
  },
  {
   "cell_type": "markdown",
   "metadata": {},
   "source": [
    "__Analizar el cambio en el RMSE a medida que es más profundo el árbol de decisión, tanto en training como en testing.__\n",
    "\n",
    "Para esto, **iterá** de 5 en 5 en el parámetro `max_depth` y **observá** como impacta en el RMSE. \n",
    "\n",
    "**Creá** dos arreglos `rmses_train` y `rmses_test` para ir guardando los **rmse** de cada profundidad"
   ]
  },
  {
   "cell_type": "code",
   "execution_count": 22,
   "metadata": {},
   "outputs": [],
   "source": [
    "# Definimos las listas vacias para los valores de accuracy deseados\n",
    "rmses_train = []\n",
    "rmses_test = []\n",
    "\n",
    "# Definimos la lista de valores de k que vamos a explorar\n",
    "wea = [5,10,15,20,25,30]\n",
    "\n",
    "# Generamos en loop sobre los distintos valores de k \n",
    "for m in wea:\n",
    "    \n",
    "    # Vamos a repetir el siguiente bloque de código\n",
    "    \n",
    "    # Definir el modelo con el valor de vecinos deseado\n",
    "    tree_reg = DecisionTreeRegressor(max_depth=m)\n",
    "    \n",
    "    # Entrenar el modelo\n",
    "    tree_reg.fit(X_train, y_train)\n",
    "    \n",
    "    # Predecir y evaluar sobre el set de entrenamiento\n",
    "    y_train_pred = tree_reg.predict(X_train)\n",
    "    tree_mse_train = mean_squared_error(y_train, y_train_pred)\n",
    "    \n",
    "    # Predecir y evaluar sobre el set de evaluación\n",
    "    y_test_pred = tree_reg.predict(X_test)\n",
    "    tree_mse_test = mean_squared_error(y_test, y_test_pred)\n",
    "    \n",
    "    # Agregar la información a las listas\n",
    "    rmses_train.append(tree_mse_train)\n",
    "    rmses_test.append(tree_mse_test)"
   ]
  },
  {
   "cell_type": "code",
   "execution_count": 23,
   "metadata": {},
   "outputs": [
    {
     "name": "stdout",
     "output_type": "stream",
     "text": [
      "[700467242.1630362, 599349639.0612847, 525239556.63112247, 484522370.5217661, 459029920.3873171, 442358084.5563688, 433679789.7690789, 449563553.0836882, 452896326.1960561]\n",
      "[716749156.4539038, 625127215.534502, 545553195.9542589, 493456770.54308194, 457712828.7648379, 415816124.1660786, 377829210.31303465, 336366107.8734271, 294247592.31054366]\n"
     ]
    }
   ],
   "source": [
    "print(rmses_test)\n",
    "print(rmses_train)"
   ]
  },
  {
   "cell_type": "markdown",
   "metadata": {},
   "source": [
    "Ahora graficamos los valores que guardamos en los arreglos `rmses_train` y `rmses_test`"
   ]
  },
  {
   "cell_type": "code",
   "execution_count": 24,
   "metadata": {
    "scrolled": true
   },
   "outputs": [
    {
     "data": {
      "image/png": "[encoded data removed]",
      "text/plain": [
       "<Figure size 432x288 with 1 Axes>"
      ]
     },
     "metadata": {
      "needs_background": "light"
     },
     "output_type": "display_data"
    }
   ],
   "source": [
    "import matplotlib.pyplot as plt\n",
    "%matplotlib inline \n",
    "plt.plot(wea, rmses_train, label='RMSE Training')\n",
    "plt.plot(wea, rmses_test, label='RMSE Testing')\n",
    "# plt.ylim((0, 90000))\n",
    "plt.legend(loc=\"best\")\n",
    "plt.title(\"RMSE Training vs RMSE Testing para árboles de decisión\")\n",
    "plt.show()"
   ]
  },
  {
   "cell_type": "markdown",
   "metadata": {},
   "source": [
    "Podemos ver aquí como el modelo presenta sobreajuste dado que a mayor complejidad (en este caso, mayor profundidad del árbol) más diferencia entre los resultados de training y testing. También observamos como la curva de testing decrece y luego vuelvo a crecer. El punto donde se minimiza está relacionado con el tradeoff entre sesgo y varianza que vamos a ver en la próxima unidad."
   ]
  },
  {
   "cell_type": "markdown",
   "metadata": {},
   "source": [
    "## KNN"
   ]
  },
  {
   "cell_type": "markdown",
   "metadata": {},
   "source": [
    "**Entrená un knn** y nuevamente medir el **rmse** en el conjunto de testing\n"
   ]
  },
  {
   "cell_type": "code",
   "execution_count": 14,
   "metadata": {},
   "outputs": [
    {
     "name": "stdout",
     "output_type": "stream",
     "text": [
      "RMSE Entrenamiento:  21915.57668778359\n"
     ]
    }
   ],
   "source": [
    "# Realizá el entrenamiento y el cálculo de rmse en esta celda\n",
    "from sklearn.neighbors import KNeighborsRegressor\n",
    "knn_reg = KNeighborsRegressor()\n",
    "# entrenamos\n",
    "knn_reg.fit(X_train, y_train)\n",
    "\n",
    "# predecimos\n",
    "y_pred = knn_reg.predict(X_test)\n",
    "\n",
    "knn_mse = mean_squared_error(y_test, y_pred)\n",
    "print(\"RMSE Entrenamiento: \", np.sqrt(knn_mse))"
   ]
  },
  {
   "cell_type": "markdown",
   "metadata": {},
   "source": [
    "__Analizar el cambio en el RMSE a medida que consideramos más vecinos para KNN, tanto en training como en testing.__\n",
    "\n",
    "Para esto, **iterá** incrementando de a uno el parámetro `n_neighbors` y **observá** como impacta en el RMSE. \n",
    "\n",
    "**Creá** dos arreglos `rmses_train` y `rmses_test` para ir guardando los **rmse** de cada profundidad"
   ]
  },
  {
   "cell_type": "code",
   "execution_count": 27,
   "metadata": {},
   "outputs": [],
   "source": [
    "# Calculá los cambio en el rmse en esta celda\n",
    "# Definimos las listas vacias para los valores de accuracy deseados\n",
    "rmses_train = []\n",
    "rmses_test = []\n",
    "\n",
    "# Definimos la lista de valores de k que vamos a explorar\n",
    "wea = list(range(1, 25, 1))\n",
    "\n",
    "# Generamos en loop sobre los distintos valores de k \n",
    "for w in wea:\n",
    "    \n",
    "    # Vamos a repetir el siguiente bloque de código\n",
    "    \n",
    "    # Definir el modelo con el valor de vecinos deseado\n",
    "    knn_reg = KNeighborsRegressor(n_neighbors=w)\n",
    "    \n",
    "    # Entrenar el modelo\n",
    "    knn_reg.fit(X_train, y_train)\n",
    "    \n",
    "    # Predecir y evaluar sobre el set de entrenamiento\n",
    "    y_train_pred = knn_reg.predict(X_train)\n",
    "    knn_mse_train = mean_squared_error(y_train, y_train_pred)\n",
    "    \n",
    "    # Predecir y evaluar sobre el set de evaluación\n",
    "    y_test_pred = knn_reg.predict(X_test)\n",
    "    knn_mse_test = mean_squared_error(y_test, y_test_pred)\n",
    "    \n",
    "    # Agregar la información a las listas\n",
    "    rmses_train.append(knn_mse_train)\n",
    "    rmses_test.append(knn_mse_test)"
   ]
  },
  {
   "cell_type": "code",
   "execution_count": 28,
   "metadata": {},
   "outputs": [
    {
     "data": {
      "image/png": "[encoded data removed]",
      "text/plain": [
       "<Figure size 432x288 with 1 Axes>"
      ]
     },
     "metadata": {
      "needs_background": "light"
     },
     "output_type": "display_data"
    }
   ],
   "source": [
    "plt.plot(wea, rmses_train, label='RMSE Training')\n",
    "plt.plot(wea, rmses_test, label='RMSE Testing')\n",
    "plt.ylim((400000000, 700000000))\n",
    "plt.legend(loc=\"best\")\n",
    "plt.title(\"RMSE Training vs RMSE Testing para KNN\")\n",
    "plt.show()"
   ]
  },
  {
   "cell_type": "markdown",
   "metadata": {},
   "source": [
    "**Calcular el RMSE promedio del resultado de cross validation para un árbol de decisión. \n",
    "Como parámetros deberás usar:**\n",
    "- 10 folds\n",
    "- profundidad 5\n",
    "- scoring neg_mean_squared_error.\n",
    "\n",
    "El árbol de decisión guardalo en una variable llamada `regressor` para poder reutilizarla luego.\n",
    "\n",
    "Atención: `cross_validation_score` de `scikit-learn` usá la métrica `neg_mean_squared_error` (NMSE) en vez de `mean_square_error` (MSE). \n",
    "\n",
    "`NMSE` es lo mismo que `MSE` pero con un signo negativo. \n",
    "\n",
    "Como nosotros queremos obtener el `MSE` para calcular sobre él el `RMSE`, vamos a definir un método `nmsq2rmse` para hacer esa conversión de `NMSE` a `MSE`\n",
    "."
   ]
  },
  {
   "cell_type": "code",
   "execution_count": 17,
   "metadata": {},
   "outputs": [],
   "source": [
    "def nmsq2rmse(score):\n",
    "    return np.sqrt(-score)"
   ]
  },
  {
   "cell_type": "code",
   "execution_count": 18,
   "metadata": {},
   "outputs": [
    {
     "data": {
      "text/plain": [
       "array([21977.27576896, 21155.588182  , 22257.52509704, 22875.28415699,\n",
       "       22355.15533515, 22533.63627536, 21224.12358953, 21230.30555687,\n",
       "       23244.42201964, 22361.90313433])"
      ]
     },
     "execution_count": 18,
     "metadata": {},
     "output_type": "execute_result"
    }
   ],
   "source": [
    "# Calculá en esta celda los cross_val_score\n",
    "regressor = DecisionTreeRegressor(max_depth=5)\n",
    "from sklearn.model_selection import cross_val_score\n",
    "score = cross_val_score(regressor, X_train, y_train,\n",
    "                             scoring=\"neg_mean_squared_error\", cv=10)\n",
    "nmsq2rmse(score)"
   ]
  },
  {
   "cell_type": "markdown",
   "metadata": {},
   "source": [
    "Para ver el resultado final, reentrenamos al regresor y mostramos en un dataframe la comparación entre los valores reales, los predichos y su diferencia"
   ]
  },
  {
   "cell_type": "code",
   "execution_count": 19,
   "metadata": {},
   "outputs": [],
   "source": [
    "regressor.fit(X_train, y_train)\n",
    "y_pred = regressor.predict(X_test)\n",
    "val_real = pd.Series(y_test.values)\n",
    "val_pred = pd.Series(y_pred)"
   ]
  },
  {
   "cell_type": "code",
   "execution_count": 20,
   "metadata": {},
   "outputs": [],
   "source": [
    "predicciones = pd.concat([val_real.rename('Valor real'),val_pred.rename('Valor Pred') ,abs(val_real-val_pred).rename('Dif(+/-)')] ,  axis=1)"
   ]
  },
  {
   "cell_type": "code",
   "execution_count": 21,
   "metadata": {},
   "outputs": [
    {
     "data": {
      "text/html": [
       "<div>\n",
       "<style scoped>\n",
       "    .dataframe tbody tr th:only-of-type {\n",
       "        vertical-align: middle;\n",
       "    }\n",
       "\n",
       "    .dataframe tbody tr th {\n",
       "        vertical-align: top;\n",
       "    }\n",
       "\n",
       "    .dataframe thead th {\n",
       "        text-align: right;\n",
       "    }\n",
       "</style>\n",
       "<table border=\"1\" class=\"dataframe\">\n",
       "  <thead>\n",
       "    <tr style=\"text-align: right;\">\n",
       "      <th></th>\n",
       "      <th>Valor real</th>\n",
       "      <th>Valor Pred</th>\n",
       "      <th>Dif(+/-)</th>\n",
       "    </tr>\n",
       "  </thead>\n",
       "  <tbody>\n",
       "    <tr>\n",
       "      <td>0</td>\n",
       "      <td>141316.000</td>\n",
       "      <td>143624.140</td>\n",
       "      <td>2308.140</td>\n",
       "    </tr>\n",
       "    <tr>\n",
       "      <td>1</td>\n",
       "      <td>63500.000</td>\n",
       "      <td>79021.881</td>\n",
       "      <td>15521.881</td>\n",
       "    </tr>\n",
       "    <tr>\n",
       "      <td>2</td>\n",
       "      <td>126000.000</td>\n",
       "      <td>85772.492</td>\n",
       "      <td>40227.508</td>\n",
       "    </tr>\n",
       "    <tr>\n",
       "      <td>3</td>\n",
       "      <td>155000.000</td>\n",
       "      <td>126888.969</td>\n",
       "      <td>28111.031</td>\n",
       "    </tr>\n",
       "    <tr>\n",
       "      <td>4</td>\n",
       "      <td>147000.000</td>\n",
       "      <td>143624.140</td>\n",
       "      <td>3375.860</td>\n",
       "    </tr>\n",
       "    <tr>\n",
       "      <td>5</td>\n",
       "      <td>85500.000</td>\n",
       "      <td>85655.673</td>\n",
       "      <td>155.673</td>\n",
       "    </tr>\n",
       "    <tr>\n",
       "      <td>6</td>\n",
       "      <td>89000.000</td>\n",
       "      <td>86477.778</td>\n",
       "      <td>2522.222</td>\n",
       "    </tr>\n",
       "    <tr>\n",
       "      <td>7</td>\n",
       "      <td>105000.000</td>\n",
       "      <td>85655.673</td>\n",
       "      <td>19344.327</td>\n",
       "    </tr>\n",
       "    <tr>\n",
       "      <td>8</td>\n",
       "      <td>81500.000</td>\n",
       "      <td>113456.219</td>\n",
       "      <td>31956.219</td>\n",
       "    </tr>\n",
       "    <tr>\n",
       "      <td>9</td>\n",
       "      <td>82000.000</td>\n",
       "      <td>82922.850</td>\n",
       "      <td>922.850</td>\n",
       "    </tr>\n",
       "  </tbody>\n",
       "</table>\n",
       "</div>"
      ],
      "text/plain": [
       "   Valor real  Valor Pred  Dif(+/-)\n",
       "0  141316.000  143624.140  2308.140\n",
       "1   63500.000   79021.881 15521.881\n",
       "2  126000.000   85772.492 40227.508\n",
       "3  155000.000  126888.969 28111.031\n",
       "4  147000.000  143624.140  3375.860\n",
       "5   85500.000   85655.673   155.673\n",
       "6   89000.000   86477.778  2522.222\n",
       "7  105000.000   85655.673 19344.327\n",
       "8   81500.000  113456.219 31956.219\n",
       "9   82000.000   82922.850   922.850"
      ]
     },
     "execution_count": 21,
     "metadata": {},
     "output_type": "execute_result"
    }
   ],
   "source": [
    "predicciones.head(10)"
   ]
  },
  {
   "cell_type": "code",
   "execution_count": null,
   "metadata": {},
   "outputs": [],
   "source": []
  }
 ],
 "metadata": {
  "kernelspec": {
   "display_name": "Python 3",
   "language": "python",
   "name": "python3"
  },
  "language_info": {
   "codemirror_mode": {
    "name": "ipython",
    "version": 3
   },
   "file_extension": ".py",
   "mimetype": "text/x-python",
   "name": "python",
   "nbconvert_exporter": "python",
   "pygments_lexer": "ipython3",
   "version": "3.7.4"
  }
 },
 "nbformat": 4,
 "nbformat_minor": 4
}
